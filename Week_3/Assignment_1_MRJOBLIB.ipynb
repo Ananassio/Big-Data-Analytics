{
  "cells": [
    {
      "cell_type": "markdown",
      "metadata": {
        "id": "view-in-github",
        "colab_type": "text"
      },
      "source": [
        "<a href=\"https://colab.research.google.com/github/Ananassio/Big-Data-Analytics/blob/main/Week_3/Assignment_1_MRJOBLIB.ipynb\" target=\"_parent\"><img src=\"https://colab.research.google.com/assets/colab-badge.svg\" alt=\"Open In Colab\"/></a>"
      ]
    },
    {
      "cell_type": "markdown",
      "metadata": {
        "id": "2wWrRrqnTPio"
      },
      "source": [
        "# Hadoop MapReduce with Python\n",
        "There are two prominent *Python* APIs for interfacing *Hadoop MapReduce* clusters:\n",
        "\n",
        "## *Snakebite* for *HDFS* access\n",
        "The [Snakebite Lib](https://github.com/spotify/snakebite) allows easy access to *HDFS* file systems:  \n",
        "```\n",
        ">>> from snakebite.client import Client\n",
        ">>> client = Client(\"localhost\", 8020, use_trash=False)\n",
        ">>> for x in client.ls(['/']):\n",
        "...     print x\n",
        "```\n",
        "\n",
        "See [documentation](https://snakebite.readthedocs.io/en/latest/) for details.\n",
        "\n",
        "\n",
        "## *MRJOB* for *MapReduce* job execution\n",
        "The ``mrjob`` lib -> [see docu](https://mrjob.readthedocs.io/en/latest/index.html) is a power full *MapReduce* client for *Python*. Some of the key features are:\n",
        "\n",
        "* local emulation (single and multi-core) a *Hadoop* cluster for development and debugging\n",
        "* simple access, authentication and file transfer to *Hadoop* clusters\n",
        "* powerful API for common cloud services, such as AWS or Azure   "
      ]
    },
    {
      "cell_type": "code",
      "execution_count": 1,
      "metadata": {
        "id": "su3JNlgOTPi5",
        "outputId": "460d5a37-ecda-4602-bf9e-ec18b4fcd7bf",
        "colab": {
          "base_uri": "https://localhost:8080/"
        }
      },
      "outputs": [
        {
          "output_type": "stream",
          "name": "stdout",
          "text": [
            "Cloning into 'DATA'...\n",
            "remote: Enumerating objects: 101, done.\u001b[K\n",
            "remote: Counting objects: 100% (14/14), done.\u001b[K\n",
            "remote: Compressing objects: 100% (12/12), done.\u001b[K\n",
            "remote: Total 101 (delta 2), reused 14 (delta 2), pack-reused 87\u001b[K\n",
            "Receiving objects: 100% (101/101), 146.44 MiB | 14.37 MiB/s, done.\n",
            "Resolving deltas: 100% (23/23), done.\n",
            "Checking out files: 100% (69/69), done.\n"
          ]
        }
      ],
      "source": [
        "#in colab, we need to clone the data from the repo\n",
        "!git clone https://github.com/keuperj/DATA.git"
      ]
    },
    {
      "cell_type": "markdown",
      "metadata": {
        "id": "FtZLD_mvTPi9"
      },
      "source": [
        "### Preparing our environment"
      ]
    },
    {
      "cell_type": "code",
      "execution_count": 2,
      "metadata": {
        "id": "dB2UuCaVTPjC",
        "outputId": "89b20ca9-b6c1-499f-ba8b-5f15382353df",
        "colab": {
          "base_uri": "https://localhost:8080/"
        }
      },
      "outputs": [
        {
          "output_type": "stream",
          "name": "stdout",
          "text": [
            "Looking in indexes: https://pypi.org/simple, https://us-python.pkg.dev/colab-wheels/public/simple/\n",
            "Collecting mrjob\n",
            "  Downloading mrjob-0.7.4-py2.py3-none-any.whl (439 kB)\n",
            "\u001b[K     |████████████████████████████████| 439 kB 5.2 MB/s \n",
            "\u001b[?25hCollecting boto3\n",
            "  Downloading boto3-1.24.10-py3-none-any.whl (132 kB)\n",
            "\u001b[K     |████████████████████████████████| 132 kB 51.3 MB/s \n",
            "\u001b[?25hRequirement already satisfied: PyYAML>=3.10 in /usr/local/lib/python3.7/dist-packages (from mrjob) (3.13)\n",
            "Collecting s3transfer<0.7.0,>=0.6.0\n",
            "  Downloading s3transfer-0.6.0-py3-none-any.whl (79 kB)\n",
            "\u001b[K     |████████████████████████████████| 79 kB 7.5 MB/s \n",
            "\u001b[?25hCollecting jmespath<2.0.0,>=0.7.1\n",
            "  Downloading jmespath-1.0.0-py3-none-any.whl (23 kB)\n",
            "Collecting botocore<1.28.0,>=1.27.10\n",
            "  Downloading botocore-1.27.10-py3-none-any.whl (8.9 MB)\n",
            "\u001b[K     |████████████████████████████████| 8.9 MB 45.4 MB/s \n",
            "\u001b[?25hCollecting urllib3<1.27,>=1.25.4\n",
            "  Downloading urllib3-1.26.9-py2.py3-none-any.whl (138 kB)\n",
            "\u001b[K     |████████████████████████████████| 138 kB 47.0 MB/s \n",
            "\u001b[?25hRequirement already satisfied: python-dateutil<3.0.0,>=2.1 in /usr/local/lib/python3.7/dist-packages (from botocore<1.28.0,>=1.27.10->boto3) (2.8.2)\n",
            "Requirement already satisfied: six>=1.5 in /usr/local/lib/python3.7/dist-packages (from python-dateutil<3.0.0,>=2.1->botocore<1.28.0,>=1.27.10->boto3) (1.15.0)\n",
            "Installing collected packages: urllib3, jmespath, botocore, s3transfer, mrjob, boto3\n",
            "  Attempting uninstall: urllib3\n",
            "    Found existing installation: urllib3 1.24.3\n",
            "    Uninstalling urllib3-1.24.3:\n",
            "      Successfully uninstalled urllib3-1.24.3\n",
            "\u001b[31mERROR: pip's dependency resolver does not currently take into account all the packages that are installed. This behaviour is the source of the following dependency conflicts.\n",
            "requests 2.23.0 requires urllib3!=1.25.0,!=1.25.1,<1.26,>=1.21.1, but you have urllib3 1.26.9 which is incompatible.\n",
            "datascience 0.10.6 requires folium==0.2.1, but you have folium 0.8.3 which is incompatible.\u001b[0m\n",
            "Successfully installed boto3-1.24.10 botocore-1.27.10 jmespath-1.0.0 mrjob-0.7.4 s3transfer-0.6.0 urllib3-1.26.9\n"
          ]
        }
      ],
      "source": [
        "!pip install mrjob boto3"
      ]
    },
    {
      "cell_type": "markdown",
      "metadata": {
        "id": "LnL5TtEtTPjG"
      },
      "source": [
        "## A *MRJOB* Example: WordCount (again)\n",
        "Since *Hadoop* works only on file in- and outputs, we do not have usual function based API. We need to pass our code (implementation of *Map* and *Reduce*) as executable *Python* scripts:\n",
        "\n",
        "* use *Jupyter's* ``%%file`` magic command to write the cell to file\n",
        "* create a executable script with ``__main__`` method\n",
        "* inherit from the ``MRJob`` class\n",
        "* implement ``mapper()`` and ``reducer()`` methods\n",
        "* call ``run()`` at start"
      ]
    },
    {
      "cell_type": "code",
      "execution_count": 3,
      "metadata": {
        "id": "ETyGp1iSTPjI",
        "outputId": "614a500b-c270-4ee7-ba27-4f93845c4dff",
        "colab": {
          "base_uri": "https://localhost:8080/"
        }
      },
      "outputs": [
        {
          "output_type": "stream",
          "name": "stdout",
          "text": [
            "Writing wordcount.py\n"
          ]
        }
      ],
      "source": [
        "%%file wordcount.py \n",
        "#this will save this cell as file\n",
        "\n",
        "from mrjob.job import MRJob\n",
        "\n",
        "class MRWordCount(MRJob):\n",
        "    def mapper(self, _, line):\n",
        "        for word in line.split():\n",
        "            yield(word, 1)\n",
        " \n",
        "    def reducer(self, word, counts):\n",
        "        yield(word, sum(counts))\n",
        "        \n",
        "if __name__ == '__main__':\n",
        "    MRWordCount.run()\n",
        "            "
      ]
    },
    {
      "cell_type": "markdown",
      "metadata": {
        "id": "2DTkqa5tTPjL"
      },
      "source": [
        "### execute script from cmd\n",
        "* ``-r local`` causes local multi-core emulation a *Hadoop* cluster.\n",
        "* Input files are cmd arguments\n",
        "* define ouput-file (see docs) or use streams: `` > out.txt``"
      ]
    },
    {
      "cell_type": "code",
      "execution_count": 4,
      "metadata": {
        "id": "c0uetiQZTPjN",
        "outputId": "2fa2ad27-9328-415a-914a-09db4fbb2954",
        "colab": {
          "base_uri": "https://localhost:8080/"
        }
      },
      "outputs": [
        {
          "output_type": "stream",
          "name": "stdout",
          "text": [
            "No configs found; falling back on auto-configuration\n",
            "No configs specified for local runner\n",
            "Creating temp directory /tmp/wordcount.root.20220616.100637.511509\n",
            "Running step 1 of 1...\n",
            "job output is in /tmp/wordcount.root.20220616.100637.511509/output\n",
            "Streaming final output from /tmp/wordcount.root.20220616.100637.511509/output...\n",
            "\"breath\"\t3\n",
            "\"brown\"\t7\n",
            "\"but\"\t9\n",
            "\"buzz\"\t3\n",
            "\"by\"\t28\n",
            "\"cable\"\t3\n",
            "\"cajole\"\t3\n",
            "\"came\"\t3\n",
            "\"charm\"\t4\n",
            "\"cheek,\"\t3\n",
            "\"chumps\"\t3\n",
            "\"close\"\t3\n",
            "\"coast\"\t4\n",
            "\"conceptions,\"\t3\n",
            "\"confound\"\t3\n",
            "\"continued\"\t3\n",
            "\"control\"\t3\n",
            "\"convince\"\t3\n",
            "\"copy\"\t6\n",
            "\"copy.\"\t3\n",
            "\"could\"\t9\n",
            "\"countless\"\t3\n",
            "\"countries\"\t4\n",
            "\"country,\"\t3\n",
            "\"country.\"\t3\n",
            "\"created\"\t4\n",
            "\"daft\"\t6\n",
            "\"darkness\"\t3\n",
            "\"day\"\t3\n",
            "\"dear\"\t3\n",
            "\"decided\"\t3\n",
            "\"describe\"\t3\n",
            "\"devils\"\t3\n",
            "\"devious\"\t3\n",
            "\"didn\\u2019t\"\t6\n",
            "\"dim\"\t3\n",
            "\"discotheques\"\t3\n",
            "\"do\"\t3\n",
            "\"dog.\"\t4\n",
            "\"dogs\"\t3\n",
            "\"down\"\t3\n",
            "\"dozen\"\t3\n",
            "\"dozy\"\t3\n",
            "\"dragged\"\t3\n",
            "\"drawing\"\t3\n",
            "\"driven\"\t3\n",
            "\"drunk\"\t3\n",
            "\"dwell\"\t3\n",
            "\"earth\"\t3\n",
            "\"earth,\"\t3\n",
            "\"earthquakes\"\t3\n",
            "\"enemy\"\t3\n",
            "\"enjoy\"\t4\n",
            "\"entire\"\t4\n",
            "\"eternity\"\t3\n",
            "\"everything\"\t3\n",
            "\"exchanged\"\t3\n",
            "\"existence\"\t4\n",
            "\"existence,\"\t3\n",
            "\"experimental\"\t3\n",
            "\"experts\"\t3\n",
            "\"exquisite\"\t6\n",
            "\"eyes,\"\t3\n",
            "\"familiar\"\t3\n",
            "\"far\"\t11\n",
            "\"fax\"\t6\n",
            "\"faxed\"\t3\n",
            "\"feel\"\t10\n",
            "\"few\"\t9\n",
            "\"fight\"\t3\n",
            "\"first\"\t3\n",
            "\"five\"\t3\n",
            "\"flax\"\t3\n",
            "\"flick\"\t3\n",
            "\"flies,\"\t3\n",
            "\"floats\"\t3\n",
            "\"flock\"\t3\n",
            "\"flocked\"\t3\n",
            "\"flows\"\t4\n",
            "\"fly\"\t3\n",
            "\"fog.\"\t3\n",
            "\"foliage\"\t3\n",
            "\"fop\"\t3\n",
            "\"for\"\t25\n",
            "\"forcing\"\t3\n",
            "\"forgot\"\t3\n",
            "\"form\"\t3\n",
            "\"formed\"\t3\n",
            "\"forms\"\t3\n",
            "\"fowl\"\t3\n",
            "\"fowls.\"\t3\n",
            "\"fox\"\t7\n",
            "\"fox,\"\t3\n",
            "\"fox.\"\t9\n",
            "\"friend\"\t3\n",
            "\"friend,\"\t6\n",
            "\"from\"\t16\n",
            "\"front\"\t3\n",
            "\"full\"\t3\n",
            "\"fun\"\t3\n",
            "\"galvanized\"\t3\n",
            "\"game.\"\t3\n",
            "\"gazed\"\t3\n",
            "\"get\"\t3\n",
            "\"ghost\"\t3\n",
            "\"girl\"\t3\n",
            "\"gleams\"\t3\n",
            "\"gods\"\t3\n",
            "\"grab\"\t3\n",
            "\"graced\"\t3\n",
            "\"grass\"\t3\n",
            "\"greater\"\t3\n",
            "\"grow\"\t3\n",
            "\"gunboats.\"\t3\n",
            "\"had\"\t3\n",
            "\"happy,\"\t3\n",
            "\"has\"\t7\n",
            "\"hasn\\u2019t\"\t3\n",
            "\"have\"\t3\n",
            "\"headline\"\t3\n",
            "\"hear\"\t3\n",
            "\"heart.\"\t4\n",
            "\"heaven\"\t3\n",
            "\"help\"\t3\n",
            "\"her\"\t36\n",
            "\"her,\"\t3\n",
            "\"her.\"\t2\n",
            "\"her.Far\"\t1\n",
            "\"herself\"\t3\n",
            "\"hills\"\t3\n",
            "\"him.\"\t3\n",
            "\"his\"\t3\n",
            "\"hometown\"\t3\n",
            "\"how\"\t3\n",
            "\"however\"\t3\n",
            "\"if\"\t3\n",
            "\"image,\"\t3\n",
            "\"impenetrable\"\t3\n",
            "\"impress\"\t3\n",
            "\"in\"\t29\n",
            "\"incapable\"\t3\n",
            "\"indescribable\"\t3\n",
            "\"infinite\"\t3\n",
            "\"initial\"\t3\n",
            "\"inner\"\t3\n",
            "\"insects\"\t3\n",
            "\"insidious\"\t3\n",
            "\"into\"\t12\n",
            "\"is\"\t18\n",
            "\"it\"\t25\n",
            "\"its\"\t9\n",
            "\"jackets\"\t3\n",
            "\"jay,\"\t3\n",
            "\"jeopardize\"\t3\n",
            "\"jewels.\"\t3\n",
            "\"jigs\"\t3\n",
            "\"jinx\"\t3\n",
            "\"job\"\t3\n",
            "\"job,\"\t3\n",
            "\"jocks\"\t3\n",
            "\"skyline\"\t3\n",
            "\"small\"\t7\n",
            "\"so\"\t12\n",
            "\"so,\"\t3\n",
            "\"soul\"\t6\n",
            "\"soul,\"\t7\n",
            "\"souls\"\t4\n",
            "\"sphinx\"\t3\n",
            "\"splendour\"\t3\n",
            "\"spot,\"\t4\n",
            "\"spring\"\t4\n",
            "\"stalks,\"\t3\n",
            "\"steal\"\t3\n",
            "\"still\"\t3\n",
            "\"stray\"\t3\n",
            "\"stream;\"\t3\n",
            "\"strength\"\t3\n",
            "\"strikes\"\t3\n",
            "\"stroke\"\t3\n",
            "\"subline\"\t3\n",
            "\"sun\"\t3\n",
            "\"supplies\"\t4\n",
            "\"surface\"\t3\n",
            "\"sustains\"\t3\n",
            "\"sweet\"\t4\n",
            "\"take\"\t3\n",
            "\"taken\"\t4\n",
            "\"talents.\"\t3\n",
            "\"tall\"\t3\n",
            "\"teems\"\t3\n",
            "\"text\"\t3\n",
            "\"texts\"\t3\n",
            "\"texts.\"\t4\n",
            "\"than\"\t3\n",
            "\"that\"\t21\n",
            "\"the\"\t182\n",
            "\"their\"\t10\n",
            "\"then\"\t12\n",
            "\"then,\"\t3\n",
            "\"there\"\t7\n",
            "\"these\"\t10\n",
            "\"they\"\t10\n",
            "\"think\"\t3\n",
            "\"this\"\t4\n",
            "\"thousand\"\t6\n",
            "\"thousands\"\t3\n",
            "\"throw\"\t3\n",
            "\"times\"\t3\n",
            "\"to\"\t24\n",
            "\"too\"\t3\n",
            "\"tranquil\"\t3\n",
            "\"trees,\"\t3\n",
            "\"trickling\"\t3\n",
            "\"turn\"\t3\n",
            "\"twenty\"\t3\n",
            "\"under\"\t3\n",
            "\"universal\"\t3\n",
            "\"unknown\"\t3\n",
            "\"unorthographic\"\t3\n",
            "\"until\"\t3\n",
            "\"up\"\t6\n",
            "\"upon\"\t3\n",
            "\"upper\"\t3\n",
            "\"us\"\t6\n",
            "\"us,\"\t3\n",
            "\"using\"\t3\n",
            "\"valley\"\t3\n",
            "\"vapour\"\t3\n",
            "\"veldt\"\t3\n",
            "\"versalia,\"\t3\n",
            "\"very\"\t6\n",
            "\"vex!\"\t3\n",
            "\"vex\"\t12\n",
            "\"vex.\"\t3\n",
            "\"vexing\"\t3\n",
            "\"view\"\t3\n",
            "\"visions!\"\t2\n",
            "\"visions!A\"\t1\n",
            "\"vixens\"\t6\n",
            "\"vow.\"\t3\n",
            "\"wafting\"\t3\n",
            "\"waltz.\"\t6\n",
            "\"warm\"\t3\n",
            "\"warned\"\t3\n",
            "\"was\"\t13\n",
            "\"watch\"\t3\n",
            "\"waves\"\t3\n",
            "\"wax\"\t3\n",
            "\"wax.\"\t2\n",
            "\"wax.The\"\t1\n",
            "\"way\"\t3\n",
            "\"way.\"\t6\n",
            "\"weight\"\t3\n",
            "\"were\"\t6\n",
            "\"whangs\"\t3\n",
            "\"whelps.\"\t3\n",
            "\"when\"\t9\n",
            "\"where\"\t6\n",
            "\"which\"\t14\n",
            "\"while\"\t3\n",
            "\"who\"\t3\n",
            "\"whole\"\t4\n",
            "\"wiki-girl.\"\t3\n",
            "\"wild\"\t3\n",
            "\"will\"\t3\n",
            "\"with\"\t20\n",
            "\"within\"\t3\n",
            "\"wizard\\u2019s\"\t3\n",
            "\"wolves\"\t3\n",
            "\"won\"\t3\n",
            "\"wonderful\"\t4\n",
            "\"word\"\t7\n",
            "\"world\"\t3\n",
            "\"would\"\t9\n",
            "\"wove\"\t3\n",
            "\"woven\"\t6\n",
            "\"yet\"\t3\n",
            "\"your\"\t3\n",
            "\"zany\"\t3\n",
            "\"zaps\"\t3\n",
            "\"zebra,\"\t3\n",
            "\"zebras\"\t3\n",
            "\"zephyrs\"\t9\n",
            "\"zippers\"\t3\n",
            "\"zippy\"\t3\n",
            "\"-\"\t3\n",
            "\"--\"\t6\n",
            "\"A\"\t16\n",
            "\"Adjusting\"\t3\n",
            "\"Alex\"\t3\n",
            "\"All\"\t3\n",
            "\"Almighty,\"\t3\n",
            "\"Alphabet\"\t3\n",
            "\"Amazingly\"\t3\n",
            "\"And\"\t3\n",
            "\"Bawds\"\t3\n",
            "\"Baz,\"\t3\n",
            "\"Big\"\t6\n",
            "\"Blind\"\t9\n",
            "\"Blowzy\"\t3\n",
            "\"Bookmarksgrove\"\t4\n",
            "\"Bookmarksgrove,\"\t3\n",
            "\"Brawny\"\t3\n",
            "\"Brick\"\t3\n",
            "\"Bright\"\t3\n",
            "\"But\"\t3\n",
            "\"Commas,\"\t3\n",
            "\"Consonantia,\"\t4\n",
            "\"Copy\"\t3\n",
            "\"Cozy\"\t3\n",
            "\"Crazy\"\t3\n",
            "\"DJs\"\t4\n",
            "\"Duden\"\t4\n",
            "\"Even\"\t3\n",
            "\"Far\"\t2\n",
            "\"Few\"\t3\n",
            "\"Five\"\t3\n",
            "\"Flummoxed\"\t3\n",
            "\"Fox\"\t3\n",
            "\"Foxy\"\t3\n",
            "\"Fredericka\"\t3\n",
            "\"God!\"\t3\n",
            "\"Grammar.\"\t3\n",
            "\"Have\"\t3\n",
            "\"How\"\t3\n",
            "\"I\"\t44\n",
            "\"Ipsum\"\t3\n",
            "\"Iraq.\"\t3\n",
            "\"It\"\t4\n",
            "\"Italic\"\t3\n",
            "\"Jack!\\\"\"\t3\n",
            "\"Jack\"\t3\n",
            "\"Japan\"\t3\n",
            "\"Jim.\"\t6\n",
            "\"Joaquin\"\t3\n",
            "\"July\"\t3\n",
            "\"Junk\"\t3\n",
            "\"Lane.\"\t3\n",
            "\"Line\"\t3\n",
            "\"Little\"\t9\n",
            "\"Longe\"\t3\n",
            "\"Lorem\"\t3\n",
            "\"MTV\"\t9\n",
            "\"Marks\"\t3\n",
            "\"Mountains,\"\t3\n",
            "\"My\"\t6\n",
            "\"O\"\t3\n",
            "\"Oh,\"\t3\n",
            "\"On\"\t3\n",
            "\"One\"\t3\n",
            "\"Oxmox\"\t3\n",
            "\"Parole\"\t3\n",
            "\"Phoenix\"\t3\n",
            "\"Pityful\"\t3\n",
            "\"Pointing\"\t3\n",
            "\"Question\"\t3\n",
            "\"Quick\"\t9\n",
            "\"Quick,\"\t3\n",
            "\"Semantics,\"\t4\n",
            "\"Semikoli,\"\t3\n",
            "\"Separated\"\t4\n",
            "\"Sex-charged\"\t3\n",
            "\"She\"\t3\n",
            "\"Six\"\t3\n",
            "\"Sixty\"\t3\n",
            "\"TV\"\t9\n",
            "\"Text\"\t6\n",
            "\"Text,\"\t3\n",
            "\"The\"\t12\n",
            "\"Trebek's\"\t3\n",
            "\"Two\"\t3\n",
            "\"Village\"\t3\n",
            "\"Vokalia\"\t4\n",
            "\"W.\"\t3\n",
            "\"Waltz,\"\t3\n",
            "\"Watch\"\t3\n",
            "\"When\"\t3\n",
            "\"When,\"\t3\n",
            "\"World\"\t3\n",
            "\"Woven\"\t3\n",
            "\"Writers\"\t3\n",
            "\"Zompyc[1]\"\t3\n",
            "\"\\\"Jeopardy!\\\",\"\t3\n",
            "\"\\\"Now\"\t3\n",
            "\"\\\"and\\\"\"\t3\n",
            "\"\\u001b[200~Far\"\t1\n",
            "\"a\"\t56\n",
            "\"about\"\t3\n",
            "\"absorb\"\t3\n",
            "\"absorbed\"\t3\n",
            "\"abused\"\t3\n",
            "\"advised\"\t3\n",
            "\"again\"\t3\n",
            "\"again.\"\t3\n",
            "\"agency,\"\t3\n",
            "\"all\"\t3\n",
            "\"all-powerful\"\t3\n",
            "\"almost\"\t3\n",
            "\"alone,\"\t4\n",
            "\"am\"\t7\n",
            "\"amazed\"\t3\n",
            "\"ambushed\"\t3\n",
            "\"among\"\t6\n",
            "\"an\"\t6\n",
            "\"and\"\t93\n",
            "\"and,\"\t3\n",
            "\"are\"\t6\n",
            "\"around\"\t9\n",
            "\"artist\"\t3\n",
            "\"as\"\t9\n",
            "\"asked\"\t3\n",
            "\"at\"\t7\n",
            "\"away,\"\t4\n",
            "\"ax\"\t3\n",
            "\"back\"\t3\n",
            "\"bad\"\t12\n",
            "\"bag.\"\t3\n",
            "\"ball\"\t3\n",
            "\"be\"\t9\n",
            "\"bears\"\t3\n",
            "\"because\"\t3\n",
            "\"bed.\"\t3\n",
            "\"been\"\t6\n",
            "\"before\"\t3\n",
            "\"behind\"\t4\n",
            "\"beloved\"\t3\n",
            "\"belt\"\t3\n",
            "\"big\"\t9\n",
            "\"blew\"\t3\n",
            "\"blind\"\t10\n",
            "\"bliss\"\t4\n",
            "\"bliss;\"\t3\n",
            "\"blow,\"\t3\n",
            "\"blue\"\t3\n",
            "\"bold\"\t3\n",
            "\"bought\"\t3\n",
            "\"bow,\"\t3\n",
            "\"box.\"\t3\n",
            "\"brave\"\t3\n",
            "\"jodhpurs!\"\t3\n",
            "\"jog,\"\t3\n",
            "\"joke\"\t3\n",
            "\"jolt\"\t3\n",
            "\"judge.\"\t3\n",
            "\"jug\"\t3\n",
            "\"jukeboxes.\"\t3\n",
            "\"jumbled\"\t3\n",
            "\"jump\"\t3\n",
            "\"jump.\"\t3\n",
            "\"jump;\"\t3\n",
            "\"jumping\"\t3\n",
            "\"jumps\"\t4\n",
            "\"jumpy\"\t3\n",
            "\"junk\"\t3\n",
            "\"jury\"\t3\n",
            "\"just\"\t3\n",
            "\"jute\"\t3\n",
            "\"killed\"\t3\n",
            "\"kvetching\"\t3\n",
            "\"language\"\t4\n",
            "\"large\"\t4\n",
            "\"last\"\t3\n",
            "\"lazy\"\t7\n",
            "\"leave\"\t3\n",
            "\"left\"\t3\n",
            "\"letters\"\t3\n",
            "\"lie\"\t3\n",
            "\"life\"\t3\n",
            "\"like\"\t10\n",
            "\"line\"\t3\n",
            "\"listen.\"\t3\n",
            "\"little\"\t3\n",
            "\"live\"\t8\n",
            "\"living\"\t3\n",
            "\"long\"\t3\n",
            "\"longing,\"\t3\n",
            "\"lovably\"\t3\n",
            "\"love\"\t3\n",
            "\"lovely\"\t3\n",
            "\"luck.\"\t3\n",
            "\"made\"\t6\n",
            "\"many\"\t3\n",
            "\"me,\"\t6\n",
            "\"me:\"\t3\n",
            "\"mere\"\t3\n",
            "\"meridian\"\t3\n",
            "\"met\"\t3\n",
            "\"might\"\t6\n",
            "\"milk.\"\t3\n",
            "\"mine.\"\t3\n",
            "\"mirror\"\t6\n",
            "\"mistress,\"\t3\n",
            "\"mock\"\t3\n",
            "\"moment;\"\t3\n",
            "\"mornings\"\t4\n",
            "\"mountains,\"\t4\n",
            "\"mouth.\"\t3\n",
            "\"moved\"\t3\n",
            "\"movement\"\t3\n",
            "\"much\"\t3\n",
            "\"my\"\t56\n",
            "\"myself\"\t3\n",
            "\"name\"\t3\n",
            "\"named\"\t4\n",
            "\"necessary\"\t4\n",
            "\"neglect\"\t3\n",
            "\"never\"\t3\n",
            "\"no\"\t6\n",
            "\"not\"\t3\n",
            "\"nothing\"\t3\n",
            "\"noticed\"\t3\n",
            "\"now.\"\t3\n",
            "\"nymph,\"\t3\n",
            "\"nymphs\"\t3\n",
            "\"nymphs.\"\t3\n",
            "\"ocean.\"\t4\n",
            "\"of\"\t98\n",
            "\"often\"\t3\n",
            "\"on\"\t6\n",
            "\"opal\"\t3\n",
            "\"origin\"\t3\n",
            "\"over\"\t10\n",
            "\"overspreads\"\t3\n",
            "\"own\"\t6\n",
            "\"own,\"\t3\n",
            "\"packed\"\t3\n",
            "\"pager\"\t3\n",
            "\"paper\"\t3\n",
            "\"paradisematic\"\t3\n",
            "\"parsons\"\t3\n",
            "\"parts\"\t3\n",
            "\"pick:\"\t3\n",
            "\"picked\"\t3\n",
            "\"pig,\"\t3\n",
            "\"place\"\t4\n",
            "\"plaid\"\t3\n",
            "\"plants\"\t3\n",
            "\"pled.\"\t3\n",
            "\"possession\"\t4\n",
            "\"power,\"\t3\n",
            "\"presence\"\t3\n",
            "\"present\"\t3\n",
            "\"prog.\"\t3\n",
            "\"projects\"\t3\n",
            "\"provide\"\t3\n",
            "\"put\"\t3\n",
            "\"pyjamas\"\t3\n",
            "\"quack!\"\t3\n",
            "\"quack\"\t3\n",
            "\"quack.\"\t3\n",
            "\"quacking\"\t3\n",
            "\"quart\"\t3\n",
            "\"quartz,\"\t3\n",
            "\"quartz.\"\t3\n",
            "\"question\"\t3\n",
            "\"questions\"\t3\n",
            "\"quick\"\t9\n",
            "\"quick,\"\t4\n",
            "\"quick-jived\"\t3\n",
            "\"quickly\"\t12\n",
            "\"quietly\"\t3\n",
            "\"quips\"\t3\n",
            "\"quit.\"\t3\n",
            "\"quiver\"\t3\n",
            "\"quiz!\"\t3\n",
            "\"quiz\"\t24\n",
            "\"quiz.\"\t6\n",
            "\"ran\"\t3\n",
            "\"reached\"\t3\n",
            "\"red\"\t3\n",
            "\"regelialia.\"\t4\n",
            "\"rethoric\"\t3\n",
            "\"return\"\t3\n",
            "\"rewritten\"\t3\n",
            "\"rewritten,\"\t3\n",
            "\"right\"\t4\n",
            "\"river\"\t4\n",
            "\"road,\"\t3\n",
            "\"roasted\"\t3\n",
            "\"safe\"\t3\n",
            "\"said\"\t3\n",
            "\"sanctuary,\"\t3\n",
            "\"seem\"\t3\n",
            "\"seized\"\t3\n",
            "\"sense\"\t3\n",
            "\"sentences\"\t3\n",
            "\"serenity\"\t4\n",
            "\"seven\"\t3\n",
            "\"she\"\t18\n",
            "\"should\"\t6\n",
            "\"show.\"\t3\n",
            "\"silk\"\t3\n",
            "\"single\"\t3\n",
            "\"sink\"\t3\n",
            "\"six\"\t9\n",
            "Removing temp directory /tmp/wordcount.root.20220616.100637.511509...\n"
          ]
        }
      ],
      "source": [
        "! python wordcount.py -r local DATA/text1.rst DATA/text2.rst DATA/text3.rst"
      ]
    },
    {
      "cell_type": "markdown",
      "metadata": {
        "id": "CAEvjbTXTPjO"
      },
      "source": [
        "## Execution on AWS EMR\n",
        "AWS EMR is a clound formation service which allows you to create *Hadoop*, *Spark* and other data analytics clusters with a few clicks.\n",
        "\n",
        "**NOTE**: we are not endorsing AWS specifically, other cloud service providers have similar offers\n",
        "\n"
      ]
    },
    {
      "cell_type": "markdown",
      "metadata": {
        "id": "AXdSKmpOTPjQ"
      },
      "source": [
        "### Case 1: create cluster on the fly \n",
        "We create a cluster just for a single job:\n",
        "* simple solution for large jobs that run only once (or only at sparse points in time)\n",
        "* this approach cause a lot of over head: not suitable for small and frequent jobs  \n",
        "\n",
        "First, we need a config file for the connection to EMR:\n",
        "**fill in YOUR AWS credentials**"
      ]
    },
    {
      "cell_type": "code",
      "execution_count": 5,
      "metadata": {
        "id": "Tu6pdPOETPjW",
        "outputId": "ce78fc33-2625-418c-df55-919d48c2a188",
        "colab": {
          "base_uri": "https://localhost:8080/"
        }
      },
      "outputs": [
        {
          "output_type": "stream",
          "name": "stdout",
          "text": [
            "Writing mrjob.conf\n"
          ]
        }
      ],
      "source": [
        "%%file mrjob.conf\n",
        "runners:\n",
        "  emr:\n",
        "    aws_access_key_id: key_id\n",
        "    aws_secret_access_key: KEY\n",
        "    instance_type: m5.xlarge\n",
        "    num_core_instances: 2\n",
        "    region: eu-west-1"
      ]
    },
    {
      "cell_type": "code",
      "execution_count": 6,
      "metadata": {
        "id": "yOH6kiuHTPjZ",
        "outputId": "4afeeaec-1aba-4d35-fc24-ede99b8a0c83",
        "colab": {
          "base_uri": "https://localhost:8080/"
        }
      },
      "outputs": [
        {
          "output_type": "stream",
          "name": "stdout",
          "text": [
            "Traceback (most recent call last):\n",
            "  File \"wordcount.py\", line 14, in <module>\n",
            "    MRWordCount.run()\n",
            "  File \"/usr/local/lib/python3.7/dist-packages/mrjob/job.py\", line 616, in run\n",
            "    cls().execute()\n",
            "  File \"/usr/local/lib/python3.7/dist-packages/mrjob/job.py\", line 687, in execute\n",
            "    self.run_job()\n",
            "  File \"/usr/local/lib/python3.7/dist-packages/mrjob/job.py\", line 634, in run_job\n",
            "    with self.make_runner() as runner:\n",
            "  File \"/usr/local/lib/python3.7/dist-packages/mrjob/job.py\", line 713, in make_runner\n",
            "    return self._runner_class()(**self._runner_kwargs())\n",
            "  File \"/usr/local/lib/python3.7/dist-packages/mrjob/emr.py\", line 358, in __init__\n",
            "    self._fix_s3_tmp_and_log_uri_opts()\n",
            "  File \"/usr/local/lib/python3.7/dist-packages/mrjob/emr.py\", line 599, in _fix_s3_tmp_and_log_uri_opts\n",
            "    self._set_cloud_tmp_dir()\n",
            "  File \"/usr/local/lib/python3.7/dist-packages/mrjob/emr.py\", line 617, in _set_cloud_tmp_dir\n",
            "    for bucket_name in self.fs.s3.get_all_bucket_names():\n",
            "  File \"/usr/local/lib/python3.7/dist-packages/mrjob/fs/s3.py\", line 332, in get_all_bucket_names\n",
            "    return [b['Name'] for b in c.list_buckets()['Buckets']]\n",
            "  File \"/usr/local/lib/python3.7/dist-packages/mrjob/retry.py\", line 108, in call_and_maybe_retry\n",
            "    return f(*args, **kwargs)\n",
            "  File \"/usr/local/lib/python3.7/dist-packages/botocore/client.py\", line 508, in _api_call\n",
            "    return self._make_api_call(operation_name, kwargs)\n",
            "  File \"/usr/local/lib/python3.7/dist-packages/botocore/client.py\", line 915, in _make_api_call\n",
            "    raise error_class(parsed_response, operation_name)\n",
            "botocore.exceptions.ClientError: An error occurred (InvalidAccessKeyId) when calling the ListBuckets operation: The AWS Access Key Id you provided does not exist in our records.\n"
          ]
        }
      ],
      "source": [
        "! python wordcount.py -r emr --bootstrap-mrjob DATA/text1.rst DATA/text2.rst -c mrjob.conf \n"
      ]
    },
    {
      "cell_type": "markdown",
      "metadata": {
        "id": "W5nbDFjaTPjb"
      },
      "source": [
        "### Case 3: connect to existing cluster"
      ]
    },
    {
      "cell_type": "code",
      "execution_count": 7,
      "metadata": {
        "id": "KttNVX_yTPjc",
        "outputId": "631d5590-e3f3-426d-f6d0-3d8c8abfe1c6",
        "colab": {
          "base_uri": "https://localhost:8080/"
        }
      },
      "outputs": [
        {
          "output_type": "stream",
          "name": "stdout",
          "text": [
            "Writing mrjob_cluster.conf\n"
          ]
        }
      ],
      "source": [
        "%%file mrjob_cluster.conf\n",
        "runners:\n",
        "  emr:\n",
        "    aws_access_key_id: KEY_id\n",
        "    aws_secret_access_key: KEY\n",
        "    region: eu-west-1"
      ]
    },
    {
      "cell_type": "markdown",
      "metadata": {
        "id": "OQwIrAIMTPjd"
      },
      "source": [
        "We need the **ID** of the cluster we want to connect to."
      ]
    },
    {
      "cell_type": "code",
      "execution_count": 8,
      "metadata": {
        "id": "l8_c8rDaTPje",
        "outputId": "8473883c-eb97-411b-d9d2-58ad642abda3",
        "colab": {
          "base_uri": "https://localhost:8080/"
        }
      },
      "outputs": [
        {
          "output_type": "stream",
          "name": "stdout",
          "text": [
            "Traceback (most recent call last):\n",
            "  File \"wordcount.py\", line 14, in <module>\n",
            "    MRWordCount.run()\n",
            "  File \"/usr/local/lib/python3.7/dist-packages/mrjob/job.py\", line 616, in run\n",
            "    cls().execute()\n",
            "  File \"/usr/local/lib/python3.7/dist-packages/mrjob/job.py\", line 687, in execute\n",
            "    self.run_job()\n",
            "  File \"/usr/local/lib/python3.7/dist-packages/mrjob/job.py\", line 634, in run_job\n",
            "    with self.make_runner() as runner:\n",
            "  File \"/usr/local/lib/python3.7/dist-packages/mrjob/job.py\", line 713, in make_runner\n",
            "    return self._runner_class()(**self._runner_kwargs())\n",
            "  File \"/usr/local/lib/python3.7/dist-packages/mrjob/emr.py\", line 358, in __init__\n",
            "    self._fix_s3_tmp_and_log_uri_opts()\n",
            "  File \"/usr/local/lib/python3.7/dist-packages/mrjob/emr.py\", line 599, in _fix_s3_tmp_and_log_uri_opts\n",
            "    self._set_cloud_tmp_dir()\n",
            "  File \"/usr/local/lib/python3.7/dist-packages/mrjob/emr.py\", line 617, in _set_cloud_tmp_dir\n",
            "    for bucket_name in self.fs.s3.get_all_bucket_names():\n",
            "  File \"/usr/local/lib/python3.7/dist-packages/mrjob/fs/s3.py\", line 332, in get_all_bucket_names\n",
            "    return [b['Name'] for b in c.list_buckets()['Buckets']]\n",
            "  File \"/usr/local/lib/python3.7/dist-packages/mrjob/retry.py\", line 108, in call_and_maybe_retry\n",
            "    return f(*args, **kwargs)\n",
            "  File \"/usr/local/lib/python3.7/dist-packages/botocore/client.py\", line 508, in _api_call\n",
            "    return self._make_api_call(operation_name, kwargs)\n",
            "  File \"/usr/local/lib/python3.7/dist-packages/botocore/client.py\", line 915, in _make_api_call\n",
            "    raise error_class(parsed_response, operation_name)\n",
            "botocore.exceptions.ClientError: An error occurred (InvalidAccessKeyId) when calling the ListBuckets operation: The AWS Access Key Id you provided does not exist in our records.\n"
          ]
        }
      ],
      "source": [
        "! python wordcount.py -r emr --cluster-id= j- DATA/text1.rst DATA/text2.rst -c mrjob_cluster.conf  "
      ]
    },
    {
      "cell_type": "markdown",
      "metadata": {
        "id": "tDaxXRQKTPje"
      },
      "source": [
        "## Exercise\n",
        "Use  *mrjob*  to  compute  employee  **top  annual  salaries** and  **gross pay** in the *CSV* table ``Baltimore_City_employee_Salaries_FY2014.csv``.\n",
        "\n",
        "* use  ``import csv`` to read the data -> [API docs](https://docs.python.org/3/library/csv.html)\n",
        "* use ``yield`` to return *producers* from *map* and *reduce* functions\n",
        "* return top entries in both categories "
      ]
    },
    {
      "cell_type": "code",
      "source": [
        "import pandas as pd"
      ],
      "metadata": {
        "id": "aUBSFqfFpnxs"
      },
      "execution_count": 9,
      "outputs": []
    },
    {
      "cell_type": "code",
      "execution_count": 10,
      "metadata": {
        "id": "hoIQDvclTPjl",
        "outputId": "12dfbfb8-e0d8-4744-8d07-a75dc6fdb6a5",
        "colab": {
          "base_uri": "https://localhost:8080/",
          "height": 424
        }
      },
      "outputs": [
        {
          "output_type": "execute_result",
          "data": {
            "text/plain": [
              "                       Name                       JobTitle AgencyID  \\\n",
              "0           Aaron,Keontae E                 AIDE BLUE CHIP   W02200   \n",
              "1          Aaron,Patricia G  Facilities/Office Services II   A03031   \n",
              "2             Aaron,Petra L     ASSISTANT STATE'S ATTORNEY   A29005   \n",
              "3        Abaineh,Yohannes T                 EPIDEMIOLOGIST   A65026   \n",
              "4          Abbene,Anthony M         POLICE OFFICER TRAINEE   A99416   \n",
              "...                     ...                            ...      ...   \n",
              "18976  Zotamou,Jean Marie D                 AIDE BLUE CHIP   W02235   \n",
              "18977       Zotamou,Pivot D                 AIDE BLUE CHIP   W02629   \n",
              "18978  Zovistoski,Zachary D         POLICE OFFICER TRAINEE   A99416   \n",
              "18979     Zubyk,Stanislav T                 POLICE OFFICER   A99262   \n",
              "18980    Zukowski,Charles J   Waste Water Tech Supv I Pump   A50206   \n",
              "\n",
              "                         Agency    HireDate  AnnualSalary  GrossPay  \n",
              "0                Youth Summer    06/10/2013       11310.0    873.63  \n",
              "1           OED-Employment Dev   10/24/1979       53428.0  52868.38  \n",
              "2      States Attorneys Office   09/25/2006       68300.0  67439.19  \n",
              "3       HLTH-Health Department   07/23/2009       62000.0  58654.74  \n",
              "4            Police Department   07/24/2013       43999.0  39686.95  \n",
              "...                         ...         ...           ...       ...  \n",
              "18976            Youth Summer    05/21/2014       11310.0       NaN  \n",
              "18977             Youth Summer   05/21/2014       11310.0       NaN  \n",
              "18978        Police Department   12/17/2013       43999.0  21070.03  \n",
              "18979        Police Department   01/23/2013       44104.0  48608.12  \n",
              "18980  DPW-Water & Waste Water   10/15/1979       53568.0  52164.32  \n",
              "\n",
              "[18981 rows x 7 columns]"
            ],
            "text/html": [
              "\n",
              "  <div id=\"df-15917c02-695b-422d-900b-a208dddb6f33\">\n",
              "    <div class=\"colab-df-container\">\n",
              "      <div>\n",
              "<style scoped>\n",
              "    .dataframe tbody tr th:only-of-type {\n",
              "        vertical-align: middle;\n",
              "    }\n",
              "\n",
              "    .dataframe tbody tr th {\n",
              "        vertical-align: top;\n",
              "    }\n",
              "\n",
              "    .dataframe thead th {\n",
              "        text-align: right;\n",
              "    }\n",
              "</style>\n",
              "<table border=\"1\" class=\"dataframe\">\n",
              "  <thead>\n",
              "    <tr style=\"text-align: right;\">\n",
              "      <th></th>\n",
              "      <th>Name</th>\n",
              "      <th>JobTitle</th>\n",
              "      <th>AgencyID</th>\n",
              "      <th>Agency</th>\n",
              "      <th>HireDate</th>\n",
              "      <th>AnnualSalary</th>\n",
              "      <th>GrossPay</th>\n",
              "    </tr>\n",
              "  </thead>\n",
              "  <tbody>\n",
              "    <tr>\n",
              "      <th>0</th>\n",
              "      <td>Aaron,Keontae E</td>\n",
              "      <td>AIDE BLUE CHIP</td>\n",
              "      <td>W02200</td>\n",
              "      <td>Youth Summer</td>\n",
              "      <td>06/10/2013</td>\n",
              "      <td>11310.0</td>\n",
              "      <td>873.63</td>\n",
              "    </tr>\n",
              "    <tr>\n",
              "      <th>1</th>\n",
              "      <td>Aaron,Patricia G</td>\n",
              "      <td>Facilities/Office Services II</td>\n",
              "      <td>A03031</td>\n",
              "      <td>OED-Employment Dev</td>\n",
              "      <td>10/24/1979</td>\n",
              "      <td>53428.0</td>\n",
              "      <td>52868.38</td>\n",
              "    </tr>\n",
              "    <tr>\n",
              "      <th>2</th>\n",
              "      <td>Aaron,Petra L</td>\n",
              "      <td>ASSISTANT STATE'S ATTORNEY</td>\n",
              "      <td>A29005</td>\n",
              "      <td>States Attorneys Office</td>\n",
              "      <td>09/25/2006</td>\n",
              "      <td>68300.0</td>\n",
              "      <td>67439.19</td>\n",
              "    </tr>\n",
              "    <tr>\n",
              "      <th>3</th>\n",
              "      <td>Abaineh,Yohannes T</td>\n",
              "      <td>EPIDEMIOLOGIST</td>\n",
              "      <td>A65026</td>\n",
              "      <td>HLTH-Health Department</td>\n",
              "      <td>07/23/2009</td>\n",
              "      <td>62000.0</td>\n",
              "      <td>58654.74</td>\n",
              "    </tr>\n",
              "    <tr>\n",
              "      <th>4</th>\n",
              "      <td>Abbene,Anthony M</td>\n",
              "      <td>POLICE OFFICER TRAINEE</td>\n",
              "      <td>A99416</td>\n",
              "      <td>Police Department</td>\n",
              "      <td>07/24/2013</td>\n",
              "      <td>43999.0</td>\n",
              "      <td>39686.95</td>\n",
              "    </tr>\n",
              "    <tr>\n",
              "      <th>...</th>\n",
              "      <td>...</td>\n",
              "      <td>...</td>\n",
              "      <td>...</td>\n",
              "      <td>...</td>\n",
              "      <td>...</td>\n",
              "      <td>...</td>\n",
              "      <td>...</td>\n",
              "    </tr>\n",
              "    <tr>\n",
              "      <th>18976</th>\n",
              "      <td>Zotamou,Jean Marie D</td>\n",
              "      <td>AIDE BLUE CHIP</td>\n",
              "      <td>W02235</td>\n",
              "      <td>Youth Summer</td>\n",
              "      <td>05/21/2014</td>\n",
              "      <td>11310.0</td>\n",
              "      <td>NaN</td>\n",
              "    </tr>\n",
              "    <tr>\n",
              "      <th>18977</th>\n",
              "      <td>Zotamou,Pivot D</td>\n",
              "      <td>AIDE BLUE CHIP</td>\n",
              "      <td>W02629</td>\n",
              "      <td>Youth Summer</td>\n",
              "      <td>05/21/2014</td>\n",
              "      <td>11310.0</td>\n",
              "      <td>NaN</td>\n",
              "    </tr>\n",
              "    <tr>\n",
              "      <th>18978</th>\n",
              "      <td>Zovistoski,Zachary D</td>\n",
              "      <td>POLICE OFFICER TRAINEE</td>\n",
              "      <td>A99416</td>\n",
              "      <td>Police Department</td>\n",
              "      <td>12/17/2013</td>\n",
              "      <td>43999.0</td>\n",
              "      <td>21070.03</td>\n",
              "    </tr>\n",
              "    <tr>\n",
              "      <th>18979</th>\n",
              "      <td>Zubyk,Stanislav T</td>\n",
              "      <td>POLICE OFFICER</td>\n",
              "      <td>A99262</td>\n",
              "      <td>Police Department</td>\n",
              "      <td>01/23/2013</td>\n",
              "      <td>44104.0</td>\n",
              "      <td>48608.12</td>\n",
              "    </tr>\n",
              "    <tr>\n",
              "      <th>18980</th>\n",
              "      <td>Zukowski,Charles J</td>\n",
              "      <td>Waste Water Tech Supv I Pump</td>\n",
              "      <td>A50206</td>\n",
              "      <td>DPW-Water &amp; Waste Water</td>\n",
              "      <td>10/15/1979</td>\n",
              "      <td>53568.0</td>\n",
              "      <td>52164.32</td>\n",
              "    </tr>\n",
              "  </tbody>\n",
              "</table>\n",
              "<p>18981 rows × 7 columns</p>\n",
              "</div>\n",
              "      <button class=\"colab-df-convert\" onclick=\"convertToInteractive('df-15917c02-695b-422d-900b-a208dddb6f33')\"\n",
              "              title=\"Convert this dataframe to an interactive table.\"\n",
              "              style=\"display:none;\">\n",
              "        \n",
              "  <svg xmlns=\"http://www.w3.org/2000/svg\" height=\"24px\"viewBox=\"0 0 24 24\"\n",
              "       width=\"24px\">\n",
              "    <path d=\"M0 0h24v24H0V0z\" fill=\"none\"/>\n",
              "    <path d=\"M18.56 5.44l.94 2.06.94-2.06 2.06-.94-2.06-.94-.94-2.06-.94 2.06-2.06.94zm-11 1L8.5 8.5l.94-2.06 2.06-.94-2.06-.94L8.5 2.5l-.94 2.06-2.06.94zm10 10l.94 2.06.94-2.06 2.06-.94-2.06-.94-.94-2.06-.94 2.06-2.06.94z\"/><path d=\"M17.41 7.96l-1.37-1.37c-.4-.4-.92-.59-1.43-.59-.52 0-1.04.2-1.43.59L10.3 9.45l-7.72 7.72c-.78.78-.78 2.05 0 2.83L4 21.41c.39.39.9.59 1.41.59.51 0 1.02-.2 1.41-.59l7.78-7.78 2.81-2.81c.8-.78.8-2.07 0-2.86zM5.41 20L4 18.59l7.72-7.72 1.47 1.35L5.41 20z\"/>\n",
              "  </svg>\n",
              "      </button>\n",
              "      \n",
              "  <style>\n",
              "    .colab-df-container {\n",
              "      display:flex;\n",
              "      flex-wrap:wrap;\n",
              "      gap: 12px;\n",
              "    }\n",
              "\n",
              "    .colab-df-convert {\n",
              "      background-color: #E8F0FE;\n",
              "      border: none;\n",
              "      border-radius: 50%;\n",
              "      cursor: pointer;\n",
              "      display: none;\n",
              "      fill: #1967D2;\n",
              "      height: 32px;\n",
              "      padding: 0 0 0 0;\n",
              "      width: 32px;\n",
              "    }\n",
              "\n",
              "    .colab-df-convert:hover {\n",
              "      background-color: #E2EBFA;\n",
              "      box-shadow: 0px 1px 2px rgba(60, 64, 67, 0.3), 0px 1px 3px 1px rgba(60, 64, 67, 0.15);\n",
              "      fill: #174EA6;\n",
              "    }\n",
              "\n",
              "    [theme=dark] .colab-df-convert {\n",
              "      background-color: #3B4455;\n",
              "      fill: #D2E3FC;\n",
              "    }\n",
              "\n",
              "    [theme=dark] .colab-df-convert:hover {\n",
              "      background-color: #434B5C;\n",
              "      box-shadow: 0px 1px 3px 1px rgba(0, 0, 0, 0.15);\n",
              "      filter: drop-shadow(0px 1px 2px rgba(0, 0, 0, 0.3));\n",
              "      fill: #FFFFFF;\n",
              "    }\n",
              "  </style>\n",
              "\n",
              "      <script>\n",
              "        const buttonEl =\n",
              "          document.querySelector('#df-15917c02-695b-422d-900b-a208dddb6f33 button.colab-df-convert');\n",
              "        buttonEl.style.display =\n",
              "          google.colab.kernel.accessAllowed ? 'block' : 'none';\n",
              "\n",
              "        async function convertToInteractive(key) {\n",
              "          const element = document.querySelector('#df-15917c02-695b-422d-900b-a208dddb6f33');\n",
              "          const dataTable =\n",
              "            await google.colab.kernel.invokeFunction('convertToInteractive',\n",
              "                                                     [key], {});\n",
              "          if (!dataTable) return;\n",
              "\n",
              "          const docLinkHtml = 'Like what you see? Visit the ' +\n",
              "            '<a target=\"_blank\" href=https://colab.research.google.com/notebooks/data_table.ipynb>data table notebook</a>'\n",
              "            + ' to learn more about interactive tables.';\n",
              "          element.innerHTML = '';\n",
              "          dataTable['output_type'] = 'display_data';\n",
              "          await google.colab.output.renderOutput(dataTable, element);\n",
              "          const docLink = document.createElement('div');\n",
              "          docLink.innerHTML = docLinkHtml;\n",
              "          element.appendChild(docLink);\n",
              "        }\n",
              "      </script>\n",
              "    </div>\n",
              "  </div>\n",
              "  "
            ]
          },
          "metadata": {},
          "execution_count": 10
        }
      ],
      "source": [
        "table = pd.read_csv('/content/DATA/Baltimore_City_Employee_Salaries_FY2014.csv')\n",
        "table"
      ]
    },
    {
      "cell_type": "code",
      "source": [
        "{table[' Name'][0],table['AnnualSalary'][0]}"
      ],
      "metadata": {
        "id": "84yAMEdKu6ul",
        "outputId": "cae9ff4f-956b-4611-90e1-20b80d7251ec",
        "colab": {
          "base_uri": "https://localhost:8080/"
        }
      },
      "execution_count": 11,
      "outputs": [
        {
          "output_type": "execute_result",
          "data": {
            "text/plain": [
              "{11310.0, 'Aaron,Keontae E'}"
            ]
          },
          "metadata": {},
          "execution_count": 11
        }
      ]
    },
    {
      "cell_type": "code",
      "source": [
        "di = {table[' Name'][0]:table['AnnualSalary'][0],\n",
        "      table[' Name'][1]:table['AnnualSalary'][1]}"
      ],
      "metadata": {
        "id": "drMsTeQa_vge"
      },
      "execution_count": 59,
      "outputs": []
    },
    {
      "cell_type": "code",
      "source": [
        "sort_orders = sorted(di.items(), key=lambda x: x[1], reverse=True)\n",
        "sort_orders"
      ],
      "metadata": {
        "id": "xmmUgMYx_-SN",
        "outputId": "a54e3e38-56b3-4c06-c2c5-6ec0f8c40688",
        "colab": {
          "base_uri": "https://localhost:8080/"
        }
      },
      "execution_count": 60,
      "outputs": [
        {
          "output_type": "execute_result",
          "data": {
            "text/plain": [
              "[('Aaron,Patricia G', 53428.0), ('Aaron,Keontae E', 11310.0)]"
            ]
          },
          "metadata": {},
          "execution_count": 60
        }
      ]
    },
    {
      "cell_type": "code",
      "source": [
        "cols = 'Name,JobTitle,AgencyID,Agency,HireDate,AnnualSalary,GrossPay'.split(',')\n",
        "cols"
      ],
      "metadata": {
        "id": "udpf0Ji-60jB",
        "outputId": "7a3208da-0f86-4a49-9b44-05c2eea2d247",
        "colab": {
          "base_uri": "https://localhost:8080/"
        }
      },
      "execution_count": 14,
      "outputs": [
        {
          "output_type": "execute_result",
          "data": {
            "text/plain": [
              "['Name',\n",
              " 'JobTitle',\n",
              " 'AgencyID',\n",
              " 'Agency',\n",
              " 'HireDate',\n",
              " 'AnnualSalary',\n",
              " 'GrossPay']"
            ]
          },
          "metadata": {},
          "execution_count": 14
        }
      ]
    },
    {
      "cell_type": "code",
      "source": [
        "cols[0]"
      ],
      "metadata": {
        "id": "TUftzEQkEsBk",
        "outputId": "495bd6c1-e207-4c34-aa59-3ba32f5875c8",
        "colab": {
          "base_uri": "https://localhost:8080/",
          "height": 35
        }
      },
      "execution_count": 64,
      "outputs": [
        {
          "output_type": "execute_result",
          "data": {
            "text/plain": [
              "'Name'"
            ],
            "application/vnd.google.colaboratory.intrinsic+json": {
              "type": "string"
            }
          },
          "metadata": {},
          "execution_count": 64
        }
      ]
    },
    {
      "cell_type": "code",
      "source": [
        "%%file salary.py \n",
        "#this will save this cell as file\n",
        "import pandas as pd\n",
        "from mrjob.job import MRJob\n",
        "table = pd.read_csv('/content/DATA/Baltimore_City_Employee_Salaries_FY2014.csv')\n",
        "\n",
        "\n",
        "class salary(MRJob):\n",
        "    def mapper(self, _, line):\n",
        "      \n",
        "      yield(('Salary','Grosspay') ,({table[' Name'][0]:table['AnnualSalary'][0]},{table[' Name'][0]:table['GrossPay'][0]}))\n",
        " \n",
        "    def reducer(self, word, val):\n",
        "      sala,gross = val;\n",
        "      Salary = sorted(sala.items(), key=lambda x: x[1], reverse=True)\n",
        "      GrossPay = sorted(gross.items(), key=lambda x: x[1], reverse=True)\n",
        "      yield(word, (Salary,GrossPay))\n",
        "        \n",
        "if __name__ == '__main__':\n",
        "    salary.run()\n"
      ],
      "metadata": {
        "id": "pK45H21hpsUg",
        "outputId": "24e8f6fb-676f-4e4f-b504-95cd6ad8b183",
        "colab": {
          "base_uri": "https://localhost:8080/"
        }
      },
      "execution_count": 67,
      "outputs": [
        {
          "output_type": "stream",
          "name": "stdout",
          "text": [
            "Overwriting salary.py\n"
          ]
        }
      ]
    },
    {
      "cell_type": "code",
      "source": [
        "! python salary.py -r local /content/DATA/Baltimore_City_Employee_Salaries_FY2014.csv"
      ],
      "metadata": {
        "id": "hnj6cgAh5wvO",
        "outputId": "484a19d1-4635-42ab-d24e-5cb009e2a22c",
        "colab": {
          "base_uri": "https://localhost:8080/"
        }
      },
      "execution_count": 68,
      "outputs": [
        {
          "output_type": "stream",
          "name": "stdout",
          "text": [
            "No configs found; falling back on auto-configuration\n",
            "No configs specified for local runner\n",
            "Creating temp directory /tmp/salary.root.20220616.103618.331025\n",
            "Running step 1 of 1...\n",
            "\n",
            "Probable cause of failure:\n",
            "\n",
            "+ /usr/bin/python3 salary.py --step-num=0 --reducer\n",
            "Traceback (most recent call last):\n",
            "  File \"salary.py\", line 19, in <module>\n",
            "    salary.run()\n",
            "  File \"/tmp/salary.root.20220616.103618.331025/step/000/reducer/00000/wd/mrjob.zip/mrjob/job.py\", line 616, in run\n",
            "  File \"/tmp/salary.root.20220616.103618.331025/step/000/reducer/00000/wd/mrjob.zip/mrjob/job.py\", line 681, in execute\n",
            "  File \"/tmp/salary.root.20220616.103618.331025/step/000/reducer/00000/wd/mrjob.zip/mrjob/job.py\", line 795, in run_reducer\n",
            "  File \"/tmp/salary.root.20220616.103618.331025/step/000/reducer/00000/wd/mrjob.zip/mrjob/job.py\", line 866, in reduce_pairs\n",
            "  File \"/tmp/salary.root.20220616.103618.331025/step/000/reducer/00000/wd/mrjob.zip/mrjob/job.py\", line 889, in _combine_or_reduce_pairs\n",
            "  File \"salary.py\", line 13, in reducer\n",
            "    sala,gross = val;\n",
            "ValueError: too many values to unpack (expected 2)\n",
            "\n",
            "(from lines 7-18 of /tmp/salary.root.20220616.103618.331025/step/000/reducer/00000/stderr)\n",
            "\n",
            "while reading input from /tmp/salary.root.20220616.103618.331025/step/000/reducer/00000/input\n",
            "\n",
            "\n",
            "Step 1 of 1 failed: Command '['/bin/sh', '-ex', 'setup-wrapper.sh', '/usr/bin/python3', 'salary.py', '--step-num=0', '--reducer']' returned non-zero exit status 1.\n"
          ]
        }
      ]
    },
    {
      "cell_type": "code",
      "source": [
        "\n",
        "\n"
      ],
      "metadata": {
        "id": "MiU3D-Vvwk19"
      },
      "execution_count": 31,
      "outputs": []
    }
  ],
  "metadata": {
    "kernelspec": {
      "display_name": "Python 3",
      "language": "python",
      "name": "python3"
    },
    "language_info": {
      "codemirror_mode": {
        "name": "ipython",
        "version": 3
      },
      "file_extension": ".py",
      "mimetype": "text/x-python",
      "name": "python",
      "nbconvert_exporter": "python",
      "pygments_lexer": "ipython3",
      "version": "3.7.6"
    },
    "colab": {
      "name": "Assignment_1_MRJOBLIB.ipynb",
      "provenance": [],
      "toc_visible": true,
      "include_colab_link": true
    }
  },
  "nbformat": 4,
  "nbformat_minor": 0
}