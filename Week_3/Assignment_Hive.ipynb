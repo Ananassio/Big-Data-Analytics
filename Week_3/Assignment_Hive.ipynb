{
  "cells": [
    {
      "cell_type": "markdown",
      "metadata": {
        "id": "view-in-github",
        "colab_type": "text"
      },
      "source": [
        "<a href=\"https://colab.research.google.com/github/Ananassio/Big-Data-Analytics/blob/main/Week_3/Assignment_Hive.ipynb\" target=\"_parent\"><img src=\"https://colab.research.google.com/assets/colab-badge.svg\" alt=\"Open In Colab\"/></a>"
      ]
    },
    {
      "cell_type": "markdown",
      "metadata": {
        "id": "MgHClVPfH01I"
      },
      "source": [
        "# Hive\n",
        "We use the *pyHive* lib: https://github.com/dropbox/PyHive \n",
        "\n",
        "## Resources\n",
        "* [HQL cheat sheet](http://hortonworks.com/wp-content/uploads/2016/05/Hortonworks.CheatSheet.SQLtoHive.pdf)\n",
        "* [Hive reference](https://cwiki.apache.org/confluence/display/Hive/LanguageManual)\n",
        "\n",
        "## Install\n",
        "Install *pyHive* via *anaconda*"
      ]
    },
    {
      "cell_type": "code",
      "execution_count": 4,
      "metadata": {
        "id": "HCaNBc_pH01S"
      },
      "outputs": [],
      "source": [
        "!pip install -q condacolab \n",
        "\n"
      ]
    },
    {
      "cell_type": "code",
      "source": [
        "import condacolab \n",
        "condacolab.install() \n",
        "\n"
      ],
      "metadata": {
        "colab": {
          "base_uri": "https://localhost:8080/"
        },
        "id": "hbf_ESW7rYxU",
        "outputId": "779aed2d-b610-40be-b8ee-dd79eb34a7a9"
      },
      "execution_count": 5,
      "outputs": [
        {
          "output_type": "stream",
          "name": "stdout",
          "text": [
            "✨🍰✨ Everything looks OK!\n"
          ]
        }
      ]
    },
    {
      "cell_type": "code",
      "source": [
        "!conda install -y pyhive sasl"
      ],
      "metadata": {
        "colab": {
          "base_uri": "https://localhost:8080/"
        },
        "id": "yZtda4Pardbi",
        "outputId": "fc3e7b63-8591-4593-e1c0-2726646d783e"
      },
      "execution_count": 6,
      "outputs": [
        {
          "output_type": "stream",
          "name": "stdout",
          "text": [
            "Collecting package metadata (current_repodata.json): - \b\b\\ \b\b| \b\b/ \b\b- \b\b\\ \b\b| \b\b/ \b\b- \b\b\\ \b\b| \b\b/ \b\b- \b\b\\ \b\bdone\n",
            "Solving environment: / \b\b- \b\b\\ \b\b| \b\b/ \b\b- \b\b\\ \b\b| \b\b/ \b\b- \b\b\\ \b\b| \b\b/ \b\b- \b\b\\ \b\b| \b\b/ \b\b- \b\b\\ \b\b| \b\b/ \b\b- \b\b\\ \b\bdone\n",
            "\n",
            "# All requested packages already installed.\n",
            "\n"
          ]
        }
      ]
    },
    {
      "cell_type": "code",
      "execution_count": 2,
      "metadata": {
        "id": "AoBWUZAVH01U"
      },
      "outputs": [],
      "source": [
        "#import libs\n",
        "from pyhive import hive\n",
        "from TCLIService.ttypes import TOperationState"
      ]
    },
    {
      "cell_type": "code",
      "execution_count": 7,
      "metadata": {
        "id": "Xei9sSNAH01V"
      },
      "outputs": [],
      "source": [
        "# try to connect\n",
        "server=\"ec2-52-51-22-48.eu-west-1.compute.amazonaws.com\"\n",
        "cursor = hive.connect(server).cursor()"
      ]
    },
    {
      "cell_type": "code",
      "execution_count": 40,
      "metadata": {
        "id": "PBzVSTQEH01V"
      },
      "outputs": [],
      "source": [
        "#show our databases\n",
        "cursor.execute('show databases')"
      ]
    },
    {
      "cell_type": "code",
      "execution_count": 41,
      "metadata": {
        "id": "oblfzvS6H01W",
        "outputId": "c98d2045-1e3c-4f34-8c79-7b243b8b8ed8",
        "colab": {
          "base_uri": "https://localhost:8080/"
        }
      },
      "outputs": [
        {
          "output_type": "execute_result",
          "data": {
            "text/plain": [
              "[('default',)]"
            ]
          },
          "metadata": {},
          "execution_count": 41
        }
      ],
      "source": [
        "#get data from execution\n",
        "cursor.fetchall()"
      ]
    },
    {
      "cell_type": "code",
      "execution_count": 42,
      "metadata": {
        "id": "3HOpreHyH01Y"
      },
      "outputs": [],
      "source": [
        "#use default db\n",
        "cursor.execute('use default')"
      ]
    },
    {
      "cell_type": "code",
      "execution_count": 43,
      "metadata": {
        "id": "sfP3VHwyH01a"
      },
      "outputs": [],
      "source": [
        "#show tables in db\n",
        "cursor.execute('show tables')"
      ]
    },
    {
      "cell_type": "code",
      "execution_count": 44,
      "metadata": {
        "id": "Q93V1EWLH01b",
        "outputId": "741e210b-c2de-4087-c383-624c8eb6a4ec",
        "colab": {
          "base_uri": "https://localhost:8080/"
        }
      },
      "outputs": [
        {
          "output_type": "execute_result",
          "data": {
            "text/plain": [
              "[('employee',), ('employee2',), ('salary',)]"
            ]
          },
          "metadata": {},
          "execution_count": 44
        }
      ],
      "source": [
        "cursor.fetchall()"
      ]
    },
    {
      "cell_type": "code",
      "execution_count": 17,
      "metadata": {
        "id": "AGw0RCptH01c",
        "outputId": "0fdbbdc6-669d-481d-b33f-a3f58ceaef03",
        "colab": {
          "base_uri": "https://localhost:8080/"
        }
      },
      "outputs": [
        {
          "output_type": "execute_result",
          "data": {
            "text/plain": [
              "[('employee_id', 'int', ''),\n",
              " ('birthday', 'date', ''),\n",
              " ('first_name', 'string', ''),\n",
              " ('family_name', 'string', ''),\n",
              " ('gender', 'char(1)', ''),\n",
              " ('work_day', 'date', '')]"
            ]
          },
          "metadata": {},
          "execution_count": 17
        }
      ],
      "source": [
        "# get table layout\n",
        "cursor.execute('describe employee')\n",
        "cursor.fetchall()"
      ]
    },
    {
      "cell_type": "code",
      "execution_count": 18,
      "metadata": {
        "id": "lVrk3FeAH01d"
      },
      "outputs": [],
      "source": [
        "#select data\n",
        "cursor.execute('select * from employee')"
      ]
    },
    {
      "cell_type": "code",
      "execution_count": 28,
      "metadata": {
        "id": "FfrzcTSoH01e"
      },
      "outputs": [],
      "source": [
        "#get daata from selction\n",
        "employee = cursor.fetchall()"
      ]
    },
    {
      "cell_type": "code",
      "execution_count": 20,
      "metadata": {
        "id": "9jmXC22-H01f",
        "outputId": "7ef1043c-e0a5-4e7e-f0eb-b8ba968a312c",
        "colab": {
          "base_uri": "https://localhost:8080/"
        }
      },
      "outputs": [
        {
          "output_type": "execute_result",
          "data": {
            "text/plain": [
              "[(10001, None, \"'Georgi'\", \"'Facello'\", \"'\", None),\n",
              " (10002, None, \"'Bezalel'\", \"'Simmel'\", \"'\", None),\n",
              " (10003, None, \"'Parto'\", \"'Bamford'\", \"'\", None),\n",
              " (10004, None, \"'Chirstian'\", \"'Koblick'\", \"'\", None),\n",
              " (10005, None, \"'Kyoichi'\", \"'Maliniak'\", \"'\", None),\n",
              " (10006, None, \"'Anneke'\", \"'Preusig'\", \"'\", None),\n",
              " (10007, None, \"'Tzvetan'\", \"'Zielinski'\", \"'\", None),\n",
              " (10008, None, \"'Saniya'\", \"'Kalloufi'\", \"'\", None),\n",
              " (10009, None, \"'Sumant'\", \"'Peac'\", \"'\", None),\n",
              " (10010, None, \"'Duangkaew'\", \"'Piveteau'\", \"'\", None)]"
            ]
          },
          "metadata": {},
          "execution_count": 20
        }
      ],
      "source": [
        "#have a look\n",
        "employee[:10]"
      ]
    },
    {
      "cell_type": "code",
      "execution_count": 21,
      "metadata": {
        "id": "EDcDMjh3H01f",
        "outputId": "f48c7b8b-9ad2-4e44-e5a4-720a38582594",
        "colab": {
          "base_uri": "https://localhost:8080/"
        }
      },
      "outputs": [
        {
          "output_type": "execute_result",
          "data": {
            "text/plain": [
              "[('employee_id', 'int', ''),\n",
              " ('salary', 'int', ''),\n",
              " ('start_date', 'date', ''),\n",
              " ('end_date', 'date', '')]"
            ]
          },
          "metadata": {},
          "execution_count": 21
        }
      ],
      "source": [
        "# get salary table layout\n",
        "cursor.execute('describe salary')\n",
        "cursor.fetchall()"
      ]
    },
    {
      "cell_type": "code",
      "execution_count": 22,
      "metadata": {
        "id": "N3R5nE9ZH01g"
      },
      "outputs": [],
      "source": [
        "#select data\n",
        "cursor.execute('select * from salary')"
      ]
    },
    {
      "cell_type": "code",
      "execution_count": 23,
      "metadata": {
        "id": "OX9pna1WH01h"
      },
      "outputs": [],
      "source": [
        "#get daata from selction\n",
        "salary = cursor.fetchall()"
      ]
    },
    {
      "cell_type": "code",
      "execution_count": 24,
      "metadata": {
        "id": "sPyV2OsSH01h",
        "colab": {
          "base_uri": "https://localhost:8080/"
        },
        "outputId": "ce722518-c7f7-4cc2-99a8-0bb26c7d1d53"
      },
      "outputs": [
        {
          "output_type": "execute_result",
          "data": {
            "text/plain": [
              "[(10001, 60117, None, None),\n",
              " (10001, 62102, None, None),\n",
              " (10001, 66074, None, None),\n",
              " (10001, 66596, None, None),\n",
              " (10001, 66961, None, None),\n",
              " (10001, 71046, None, None),\n",
              " (10001, 74333, None, None),\n",
              " (10001, 75286, None, None),\n",
              " (10001, 75994, None, None),\n",
              " (10001, 76884, None, None)]"
            ]
          },
          "metadata": {},
          "execution_count": 24
        }
      ],
      "source": [
        "salary[:10]"
      ]
    },
    {
      "cell_type": "markdown",
      "metadata": {
        "id": "Cr0ty4gsH01i"
      },
      "source": [
        "## Ex 1\n",
        "Get employees sorted by ``family_name``. Return first 10 entries."
      ]
    },
    {
      "cell_type": "code",
      "execution_count": 31,
      "metadata": {
        "id": "5plL57fKH01i"
      },
      "outputs": [],
      "source": [
        "cursor.execute(\"select * from employee sort by family_name\")"
      ]
    },
    {
      "cell_type": "code",
      "execution_count": 32,
      "metadata": {
        "id": "f5AbUIxfH01j",
        "outputId": "1de102a9-f725-4eef-9dd5-eae9b4fc6988",
        "colab": {
          "base_uri": "https://localhost:8080/"
        }
      },
      "outputs": [
        {
          "output_type": "execute_result",
          "data": {
            "text/plain": [
              "[(266651, None, \"'Aleksander'\", \"'Aamodt'\", \"'\", None),\n",
              " (479557, None, \"'Marie'\", \"'Aamodt'\", \"'\", None),\n",
              " (19898, None, \"'Vidar'\", \"'Aamodt'\", \"'\", None),\n",
              " (487598, None, \"'Alexius'\", \"'Aamodt'\", \"'\", None),\n",
              " (481972, None, \"'Bikash'\", \"'Aamodt'\", \"'\", None),\n",
              " (57933, None, \"'Yishay'\", \"'Aamodt'\", \"'\", None),\n",
              " (460902, None, \"'Nimmagadda'\", \"'Aamodt'\", \"'\", None),\n",
              " (27413, None, \"'Phuoc'\", \"'Aamodt'\", \"'\", None),\n",
              " (411560, None, \"'Basant'\", \"'Aamodt'\", \"'\", None),\n",
              " (227725, None, \"'Peternela'\", \"'Aamodt'\", \"'\", None)]"
            ]
          },
          "metadata": {},
          "execution_count": 32
        }
      ],
      "source": [
        "family_name = cursor.fetchall()\n",
        "family_name[:10]"
      ]
    },
    {
      "cell_type": "markdown",
      "metadata": {
        "id": "A5YKLzYnH01j"
      },
      "source": [
        "## Ex 2\n",
        "Get ``family_name`` and ``salary`` of employees sorted by salary. Return first 100 entries. Hint: you need to join both tables..."
      ]
    },
    {
      "cell_type": "code",
      "execution_count": 36,
      "metadata": {
        "id": "sqGnrDiHH01k",
        "outputId": "d044968e-2fc3-46fa-f7ad-72c88aa756a3",
        "colab": {
          "base_uri": "https://localhost:8080/"
        }
      },
      "outputs": [
        {
          "output_type": "execute_result",
          "data": {
            "text/plain": [
              "[(253406, None, \"'Olivera'\", \"'Baek'\", \"'\", None, 253406, 38623, None, None),\n",
              " (49239, None, \"'Fumiya'\", \"'Unno'\", \"'\", None, 49239, 38735, None, None),\n",
              " (64198,\n",
              "  None,\n",
              "  \"'Mechthild'\",\n",
              "  \"'Langford'\",\n",
              "  \"'\",\n",
              "  None,\n",
              "  64198,\n",
              "  38836,\n",
              "  None,\n",
              "  None),\n",
              " (34707, None, \"'Jacqueline'\", \"'Syang'\", \"'\", None, 34707, 38851, None, None),\n",
              " (49239, None, \"'Fumiya'\", \"'Unno'\", \"'\", None, 49239, 38859, None, None),\n",
              " (52167, None, \"'Bernd'\", \"'Copas'\", \"'\", None, 52167, 38888, None, None),\n",
              " (245104, None, \"'Denny'\", \"'Assaf'\", \"'\", None, 245104, 38923, None, None),\n",
              " (280460, None, \"'Matt'\", \"'Munch'\", \"'\", None, 280460, 38927, None, None),\n",
              " (95705, None, \"'Yagil'\", \"'Perri'\", \"'\", None, 95705, 38928, None, None),\n",
              " (245832, None, \"'Pascal'\", \"'Lueh'\", \"'\", None, 245832, 38936, None, None),\n",
              " (401786,\n",
              "  None,\n",
              "  \"'Sachar'\",\n",
              "  \"'Nicolson'\",\n",
              "  \"'\",\n",
              "  None,\n",
              "  401786,\n",
              "  38942,\n",
              "  None,\n",
              "  None),\n",
              " (424301,\n",
              "  None,\n",
              "  \"'Christfried'\",\n",
              "  \"'Werthner'\",\n",
              "  \"'\",\n",
              "  None,\n",
              "  424301,\n",
              "  38963,\n",
              "  None,\n",
              "  None),\n",
              " (209700, None, \"'Shahaf'\", \"'England'\", \"'\", None, 209700, 38990, None, None),\n",
              " (15830, None, \"'Yurij'\", \"'Narwekar'\", \"'\", None, 15830, 39012, None, None),\n",
              " (237594, None, \"'Chaoyi'\", \"'Couchot'\", \"'\", None, 237594, 39031, None, None),\n",
              " (65904, None, \"'Shaw'\", \"'Kushnir'\", \"'\", None, 65904, 39035, None, None),\n",
              " (22320, None, \"'Divier'\", \"'Schauser'\", \"'\", None, 22320, 39050, None, None),\n",
              " (200509, None, \"'Somnath'\", \"'Zhang'\", \"'\", None, 200509, 39062, None, None),\n",
              " (65904, None, \"'Shaw'\", \"'Kushnir'\", \"'\", None, 65904, 39063, None, None),\n",
              " (15830, None, \"'Yurij'\", \"'Narwekar'\", \"'\", None, 15830, 39069, None, None),\n",
              " (33683, None, \"'Susanne'\", \"'Bail'\", \"'\", None, 33683, 39072, None, None),\n",
              " (492443, None, \"'Val'\", \"'Mansanne'\", \"'\", None, 492443, 39075, None, None),\n",
              " (407530,\n",
              "  None,\n",
              "  \"'Shuho'\",\n",
              "  \"'Manderick'\",\n",
              "  \"'\",\n",
              "  None,\n",
              "  407530,\n",
              "  39085,\n",
              "  None,\n",
              "  None),\n",
              " (200222, None, \"'Anoosh'\", \"'Butner'\", \"'\", None, 200222, 39089, None, None),\n",
              " (223269, None, \"'Arno'\", \"'Michaels'\", \"'\", None, 223269, 39089, None, None),\n",
              " (426116,\n",
              "  None,\n",
              "  \"'Minghong'\",\n",
              "  \"'Rosenbaum'\",\n",
              "  \"'\",\n",
              "  None,\n",
              "  426116,\n",
              "  39094,\n",
              "  None,\n",
              "  None),\n",
              " (240902, None, \"'Qingxiang'\", \"'Suri'\", \"'\", None, 240902, 39096, None, None),\n",
              " (475254, None, \"'Zhiguo'\", \"'Kobuchi'\", \"'\", None, 475254, 39100, None, None),\n",
              " (489953,\n",
              "  None,\n",
              "  \"'Valeska'\",\n",
              "  \"'Collavizza'\",\n",
              "  \"'\",\n",
              "  None,\n",
              "  489953,\n",
              "  39103,\n",
              "  None,\n",
              "  None),\n",
              " (37585,\n",
              "  None,\n",
              "  \"'Hercules'\",\n",
              "  \"'Cincotta'\",\n",
              "  \"'\",\n",
              "  None,\n",
              "  37585,\n",
              "  39117,\n",
              "  None,\n",
              "  None),\n",
              " (72353, None, \"'Kshitij'\", \"'Cesareni'\", \"'\", None, 72353, 39120, None, None),\n",
              " (245713,\n",
              "  None,\n",
              "  \"'Zhenhua'\",\n",
              "  \"'Atrawala'\",\n",
              "  \"'\",\n",
              "  None,\n",
              "  245713,\n",
              "  39121,\n",
              "  None,\n",
              "  None),\n",
              " (58479, None, \"'Dines'\", \"'Erdmenger'\", \"'\", None, 58479, 39124, None, None),\n",
              " (57385, None, \"'Kiam'\", \"'Gomatam'\", \"'\", None, 57385, 39127, None, None),\n",
              " (407497, None, \"'Utpal'\", \"'Gecsei'\", \"'\", None, 407497, 39129, None, None),\n",
              " (443058,\n",
              "  None,\n",
              "  \"'Kamakshi'\",\n",
              "  \"'Neiman'\",\n",
              "  \"'\",\n",
              "  None,\n",
              "  443058,\n",
              "  39142,\n",
              "  None,\n",
              "  None),\n",
              " (14402, None, \"'Mooi'\", \"'Peac'\", \"'\", None, 14402, 39146, None, None),\n",
              " (28995, None, \"'Gita'\", \"'McFarlin'\", \"'\", None, 28995, 39146, None, None),\n",
              " (217148, None, \"'Gina'\", \"'Kroll'\", \"'\", None, 217148, 39147, None, None),\n",
              " (431110, None, \"'Harjit'\", \"'Marzano'\", \"'\", None, 431110, 39150, None, None),\n",
              " (278593, None, \"'Ghassan'\", \"'Ranft'\", \"'\", None, 278593, 39158, None, None),\n",
              " (31181, None, \"'Uriel'\", \"'Uchoa'\", \"'\", None, 31181, 39161, None, None),\n",
              " (286489,\n",
              "  None,\n",
              "  \"'Fumiko'\",\n",
              "  \"'Arlazarov'\",\n",
              "  \"'\",\n",
              "  None,\n",
              "  286489,\n",
              "  39162,\n",
              "  None,\n",
              "  None),\n",
              " (65177, None, \"'Maia'\", \"'Griswold'\", \"'\", None, 65177, 39166, None, None),\n",
              " (27427, None, \"'Mariusz'\", \"'Harbusch'\", \"'\", None, 27427, 39166, None, None),\n",
              " (447752,\n",
              "  None,\n",
              "  \"'Ramachenga'\",\n",
              "  \"'Chiodo'\",\n",
              "  \"'\",\n",
              "  None,\n",
              "  447752,\n",
              "  39169,\n",
              "  None,\n",
              "  None),\n",
              " (400756,\n",
              "  None,\n",
              "  \"'Serenella'\",\n",
              "  \"'Braunschweig'\",\n",
              "  \"'\",\n",
              "  None,\n",
              "  400756,\n",
              "  39170,\n",
              "  None,\n",
              "  None),\n",
              " (464648,\n",
              "  None,\n",
              "  \"'Sahrah'\",\n",
              "  \"'Bresenham'\",\n",
              "  \"'\",\n",
              "  None,\n",
              "  464648,\n",
              "  39175,\n",
              "  None,\n",
              "  None),\n",
              " (433565, None, \"'Erez'\", \"'Kranzdorf'\", \"'\", None, 433565, 39175, None, None),\n",
              " (298516, None, \"'Gad'\", \"'Wossner'\", \"'\", None, 298516, 39179, None, None),\n",
              " (470493,\n",
              "  None,\n",
              "  \"'Doohun'\",\n",
              "  \"'Hartvigsen'\",\n",
              "  \"'\",\n",
              "  None,\n",
              "  470493,\n",
              "  39180,\n",
              "  None,\n",
              "  None),\n",
              " (105290, None, \"'Muneo'\", \"'Dulin'\", \"'\", None, 105290, 39182, None, None),\n",
              " (71566, None, \"'Dinah'\", \"'Gruenwald'\", \"'\", None, 71566, 39183, None, None),\n",
              " (253264,\n",
              "  None,\n",
              "  \"'Soenke'\",\n",
              "  \"'Birnbaum'\",\n",
              "  \"'\",\n",
              "  None,\n",
              "  253264,\n",
              "  39185,\n",
              "  None,\n",
              "  None),\n",
              " (81788, None, \"'Marie'\", \"'Marrakchi'\", \"'\", None, 81788, 39186, None, None),\n",
              " (425579, None, \"'Greger'\", \"'Denos'\", \"'\", None, 425579, 39188, None, None),\n",
              " (401786,\n",
              "  None,\n",
              "  \"'Sachar'\",\n",
              "  \"'Nicolson'\",\n",
              "  \"'\",\n",
              "  None,\n",
              "  401786,\n",
              "  39191,\n",
              "  None,\n",
              "  None),\n",
              " (284159, None, \"'Keung'\", \"'Talmor'\", \"'\", None, 284159, 39192, None, None),\n",
              " (14548, None, \"'Raimond'\", \"'Ernst'\", \"'\", None, 14548, 39192, None, None),\n",
              " (463157, None, \"'Djenana'\", \"'Lunt'\", \"'\", None, 463157, 39202, None, None),\n",
              " (291696, None, \"'Kensei'\", \"'Acton'\", \"'\", None, 291696, 39202, None, None),\n",
              " (100446, None, \"'Mayuko'\", \"'Spell'\", \"'\", None, 100446, 39205, None, None),\n",
              " (16867,\n",
              "  None,\n",
              "  \"'Felicidad'\",\n",
              "  \"'Garigliano'\",\n",
              "  \"'\",\n",
              "  None,\n",
              "  16867,\n",
              "  39212,\n",
              "  None,\n",
              "  None),\n",
              " (90631, None, \"'Kinh'\", \"'Jullig'\", \"'\", None, 90631, 39216, None, None),\n",
              " (95459, None, \"'Adel'\", \"'Hegner'\", \"'\", None, 95459, 39217, None, None),\n",
              " (52167, None, \"'Bernd'\", \"'Copas'\", \"'\", None, 52167, 39221, None, None),\n",
              " (76483, None, \"'Pramod'\", \"'Zirintsis'\", \"'\", None, 76483, 39222, None, None),\n",
              " (451181, None, \"'Jinya'\", \"'Baez'\", \"'\", None, 451181, 39222, None, None),\n",
              " (107698,\n",
              "  None,\n",
              "  \"'Saddek'\",\n",
              "  \"'Kusakabe'\",\n",
              "  \"'\",\n",
              "  None,\n",
              "  107698,\n",
              "  39225,\n",
              "  None,\n",
              "  None),\n",
              " (496848,\n",
              "  None,\n",
              "  \"'Xiaopeng'\",\n",
              "  \"'Piancastelli'\",\n",
              "  \"'\",\n",
              "  None,\n",
              "  496848,\n",
              "  39227,\n",
              "  None,\n",
              "  None),\n",
              " (457186, None, \"'Eckart'\", \"'Auria'\", \"'\", None, 457186, 39228, None, None),\n",
              " (441545,\n",
              "  None,\n",
              "  \"'Mingsen'\",\n",
              "  \"'Kalorkoti'\",\n",
              "  \"'\",\n",
              "  None,\n",
              "  441545,\n",
              "  39229,\n",
              "  None,\n",
              "  None),\n",
              " (73055, None, \"'Taiji'\", \"'Pelc'\", \"'\", None, 73055, 39229, None, None),\n",
              " (281546,\n",
              "  None,\n",
              "  \"'Chuanyi'\",\n",
              "  \"'Kuhnemann'\",\n",
              "  \"'\",\n",
              "  None,\n",
              "  281546,\n",
              "  39234,\n",
              "  None,\n",
              "  None),\n",
              " (11565,\n",
              "  None,\n",
              "  \"'Yoshinari'\",\n",
              "  \"'Sankaranarayanan'\",\n",
              "  \"'\",\n",
              "  None,\n",
              "  11565,\n",
              "  39236,\n",
              "  None,\n",
              "  None),\n",
              " (216185,\n",
              "  None,\n",
              "  \"'Gurbir'\",\n",
              "  \"'Antonisse'\",\n",
              "  \"'\",\n",
              "  None,\n",
              "  216185,\n",
              "  39237,\n",
              "  None,\n",
              "  None),\n",
              " (299655,\n",
              "  None,\n",
              "  \"'Mingdong'\",\n",
              "  \"'Spataro'\",\n",
              "  \"'\",\n",
              "  None,\n",
              "  299655,\n",
              "  39239,\n",
              "  None,\n",
              "  None),\n",
              " (236087,\n",
              "  None,\n",
              "  \"'Kristin'\",\n",
              "  \"'Klassen'\",\n",
              "  \"'\",\n",
              "  None,\n",
              "  236087,\n",
              "  39244,\n",
              "  None,\n",
              "  None),\n",
              " (284791,\n",
              "  None,\n",
              "  \"'Kazuhiko'\",\n",
              "  \"'Giaccio'\",\n",
              "  \"'\",\n",
              "  None,\n",
              "  284791,\n",
              "  39245,\n",
              "  None,\n",
              "  None),\n",
              " (287577, None, \"'Halsur'\", \"'Ellozy'\", \"'\", None, 287577, 39246, None, None),\n",
              " (28295, None, \"'Babette'\", \"'Luef'\", \"'\", None, 28295, 39254, None, None),\n",
              " (42926, None, \"'Cheong'\", \"'Schieder'\", \"'\", None, 42926, 39256, None, None),\n",
              " (279990,\n",
              "  None,\n",
              "  \"'Augustine'\",\n",
              "  \"'Alpin'\",\n",
              "  \"'\",\n",
              "  None,\n",
              "  279990,\n",
              "  39256,\n",
              "  None,\n",
              "  None),\n",
              " (84104, None, \"'Ekawit'\", \"'Erez'\", \"'\", None, 84104, 39257, None, None),\n",
              " (298213, None, \"'Lenore'\", \"'Rajcani'\", \"'\", None, 298213, 39260, None, None),\n",
              " (253515, None, \"'Kousuke'\", \"'Casley'\", \"'\", None, 253515, 39263, None, None),\n",
              " (245492,\n",
              "  None,\n",
              "  \"'Angus'\",\n",
              "  \"'Schlumberger'\",\n",
              "  \"'\",\n",
              "  None,\n",
              "  245492,\n",
              "  39264,\n",
              "  None,\n",
              "  None),\n",
              " (47670, None, \"'Marek'\", \"'Unni'\", \"'\", None, 47670, 39267, None, None),\n",
              " (208511, None, \"'Shai'\", \"'Valtorta'\", \"'\", None, 208511, 39271, None, None),\n",
              " (15830, None, \"'Yurij'\", \"'Narwekar'\", \"'\", None, 15830, 39273, None, None),\n",
              " (12444, None, \"'Monique'\", \"'Reinhard'\", \"'\", None, 12444, 39275, None, None),\n",
              " (15479, None, \"'Zhenbing'\", \"'Soicher'\", \"'\", None, 15479, 39279, None, None),\n",
              " (226312,\n",
              "  None,\n",
              "  \"'Kazuhira'\",\n",
              "  \"'Zallocco'\",\n",
              "  \"'\",\n",
              "  None,\n",
              "  226312,\n",
              "  39279,\n",
              "  None,\n",
              "  None),\n",
              " (292804, None, \"'Hongzue'\", \"'Kading'\", \"'\", None, 292804, 39280, None, None),\n",
              " (108160, None, \"'Percy'\", \"'Peot'\", \"'\", None, 108160, 39280, None, None),\n",
              " (82434,\n",
              "  None,\n",
              "  \"'Bojan'\",\n",
              "  \"'Mullainathan'\",\n",
              "  \"'\",\n",
              "  None,\n",
              "  82434,\n",
              "  39283,\n",
              "  None,\n",
              "  None),\n",
              " (85682, None, \"'Vidar'\", \"'Turnbull'\", \"'\", None, 85682, 39285, None, None),\n",
              " (465358,\n",
              "  None,\n",
              "  \"'King'\",\n",
              "  \"'Ramamoorthy'\",\n",
              "  \"'\",\n",
              "  None,\n",
              "  465358,\n",
              "  39286,\n",
              "  None,\n",
              "  None),\n",
              " (475970, None, \"'Zdislav'\", \"'Eiron'\", \"'\", None, 475970, 39287, None, None),\n",
              " (450501, None, \"'Gadiel'\", \"'Sidhu'\", \"'\", None, 450501, 39287, None, None)]"
            ]
          },
          "metadata": {},
          "execution_count": 36
        }
      ],
      "source": [
        "cursor.execute(\"select * from employee JOIN salary ON (employee.employee_id = salary.employee_id) sort by salary \")\n",
        "data=cursor.fetchall()\n",
        "data[:100]"
      ]
    },
    {
      "cell_type": "markdown",
      "metadata": {
        "id": "d67mWDujH01k"
      },
      "source": [
        "## Ex 3\n",
        "Get the average salary by gender. Hint: use Group by"
      ]
    },
    {
      "cell_type": "code",
      "execution_count": null,
      "metadata": {
        "id": "aYZjnau0H01l"
      },
      "outputs": [],
      "source": [
        "cursor.execute(\"select E.gender, avg(S.salary) from employee2 E JOIN salary S ON (E.employee_id = S.employee_id) GROUP BY gender\")\n",
        "cursor.fetchall()"
      ]
    },
    {
      "cell_type": "code",
      "execution_count": null,
      "metadata": {
        "id": "OYp78F7AH01l"
      },
      "outputs": [],
      "source": [
        ""
      ]
    }
  ],
  "metadata": {
    "kernelspec": {
      "display_name": "Python 3",
      "language": "python",
      "name": "python3"
    },
    "language_info": {
      "codemirror_mode": {
        "name": "ipython",
        "version": 3
      },
      "file_extension": ".py",
      "mimetype": "text/x-python",
      "name": "python",
      "nbconvert_exporter": "python",
      "pygments_lexer": "ipython3",
      "version": "3.7.6"
    },
    "colab": {
      "name": "Assignment_Hive.ipynb",
      "provenance": [],
      "include_colab_link": true
    },
    "accelerator": "GPU"
  },
  "nbformat": 4,
  "nbformat_minor": 0
}