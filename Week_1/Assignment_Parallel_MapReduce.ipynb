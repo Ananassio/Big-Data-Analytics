{
  "cells": [
    {
      "cell_type": "markdown",
      "metadata": {
        "id": "view-in-github",
        "colab_type": "text"
      },
      "source": [
        "<a href=\"https://colab.research.google.com/github/Ananassio/Big-Data-Analytics/blob/main/Week_1/Assignment_Parallel_MapReduce.ipynb\" target=\"_parent\"><img src=\"https://colab.research.google.com/assets/colab-badge.svg\" alt=\"Open In Colab\"/></a>"
      ]
    },
    {
      "cell_type": "markdown",
      "metadata": {
        "id": "DtZThsA-xPkD"
      },
      "source": [
        "# Ex 1.2: A simple parallel MapReduce framework in Python\n",
        "Now we use the [*multiprocessing*](https://docs.python.org/3/library/multiprocessing.html) lib to actually do things in parallel"
      ]
    },
    {
      "cell_type": "code",
      "execution_count": 32,
      "metadata": {
        "id": "oSSv9lhaxPkG",
        "outputId": "aacee412-7d3b-45d0-fe3f-07a0e1ca6f7b",
        "colab": {
          "base_uri": "https://localhost:8080/"
        }
      },
      "outputs": [
        {
          "output_type": "stream",
          "name": "stdout",
          "text": [
            "fatal: destination path 'DATA' already exists and is not an empty directory.\n"
          ]
        }
      ],
      "source": [
        "#in colab, we need to clone the data from the repo\n",
        "!git clone https://github.com/keuperj/DATA.git"
      ]
    },
    {
      "cell_type": "code",
      "execution_count": 33,
      "metadata": {
        "id": "agnKf05WxPkI"
      },
      "outputs": [],
      "source": [
        "import collections\n",
        "import itertools\n",
        "import multiprocessing\n",
        "\n",
        "\n",
        "class SimpleMapReduce:\n",
        "\n",
        "    def __init__(self, map_func, reduce_func, num_workers=None):\n",
        "        \"\"\"\n",
        "        map_func\n",
        "\n",
        "          F oh unction to map inputs to intermediate data. Takes as\n",
        "          argument one input value and returns a tuple with the\n",
        "          key and a value to be reduced.\n",
        "\n",
        "        reduce_func\n",
        "\n",
        "          Function to reduce partitioned version of intermediate\n",
        "          data to final output. Takes as argument a key as\n",
        "          produced by map_func and a sequence of the values\n",
        "          associated with that key.\n",
        "\n",
        "        num_workers\n",
        "\n",
        "          The number of workers to create in the pool. Defaults\n",
        "          to the number of CPUs available on the current host.\n",
        "        \"\"\"\n",
        "        self.map_func = map_func\n",
        "        self.reduce_func = reduce_func\n",
        "        self.pool = multiprocessing.Pool(num_workers)\n",
        "\n",
        "    def partition(self, mapped_values):\n",
        "        \"\"\"Organize the mapped values by their key.\n",
        "        Returns an unsorted sequence of tuples with a key\n",
        "        and a sequence of values.\n",
        "        \"\"\"\n",
        "        partitioned_data = collections.defaultdict(list)\n",
        "        for key, value in mapped_values:\n",
        "            partitioned_data[key].append(value)\n",
        "        return partitioned_data.items()\n",
        "\n",
        "    def __call__(self, inputs, chunksize=1):\n",
        "        \"\"\"Process the inputs through the map and reduce functions\n",
        "        given.\n",
        "\n",
        "        inputs\n",
        "          An iterable containing the input data to be processed.\n",
        "\n",
        "        chunksize=1\n",
        "          The portion of the input data to hand to each worker.\n",
        "          This can be used to tune performance during the mapping\n",
        "          phase.\n",
        "        \"\"\"\n",
        "        map_responses = self.pool.map(\n",
        "            self.map_func,\n",
        "            inputs,\n",
        "            chunksize=chunksize,\n",
        "        )\n",
        "        partitioned_data = self.partition(\n",
        "            itertools.chain(*map_responses)\n",
        "        )\n",
        "        reduced_values = self.pool.map(\n",
        "            self.reduce_func,\n",
        "            partitioned_data,\n",
        "        )\n",
        "        return reduced_values"
      ]
    },
    {
      "cell_type": "markdown",
      "metadata": {
        "id": "gnPVghE4xPkL"
      },
      "source": [
        "### A Word Count example"
      ]
    },
    {
      "cell_type": "code",
      "execution_count": 34,
      "metadata": {
        "id": "tO6DSuiAxPkN"
      },
      "outputs": [],
      "source": [
        "import string\n",
        "\n",
        "# map - read file and count words\n",
        "def file_to_words(filename):\n",
        "    \"\"\"Read a file and return a sequence of\n",
        "    (word, occurences) values.\n",
        "    \"\"\"\n",
        "    STOP_WORDS = set([\n",
        "        'a', 'an', 'and', 'are', 'as', 'be', 'by', 'for', 'if',\n",
        "        'in', 'is', 'it', 'of', 'or', 'py', 'rst', 'that', 'the',\n",
        "        'to', 'with',\n",
        "    ])\n",
        "    TR = str.maketrans({\n",
        "        p: ' '\n",
        "        for p in string.punctuation\n",
        "    })\n",
        "\n",
        "    print('{} reading {}'.format(\n",
        "        multiprocessing.current_process().name, filename))\n",
        "    output = []\n",
        "\n",
        "    with open(filename, 'rt') as f:\n",
        "        for line in f:\n",
        "            # Skip comment lines.\n",
        "            if line.lstrip().startswith('..'):\n",
        "                continue\n",
        "            line = line.translate(TR)  # Strip punctuation\n",
        "            for word in line.split():\n",
        "                word = word.lower()\n",
        "                if word.isalpha() and word not in STOP_WORDS:\n",
        "                    output.append((word, 1))\n",
        "    return output\n",
        "\n",
        "# reduce\n",
        "def count_words(item):\n",
        "    \"\"\"Convert the partitioned data for a word to a\n",
        "    tuple containing the word and the number of occurences.\n",
        "    \"\"\"\n",
        "    word, occurences = item\n",
        "    return (word, sum(occurences))"
      ]
    },
    {
      "cell_type": "code",
      "execution_count": 35,
      "metadata": {
        "id": "1udSUUpSxPkP",
        "outputId": "baf57cb2-381d-4e8c-ab30-d65caf0258f8",
        "colab": {
          "base_uri": "https://localhost:8080/"
        }
      },
      "outputs": [
        {
          "output_type": "stream",
          "name": "stdout",
          "text": [
            "ForkPoolWorker-7 reading DATA/text2.rst\n",
            "ForkPoolWorker-8 reading DATA/text4.rst\n",
            "ForkPoolWorker-7 reading DATA/text3.rst\n",
            "ForkPoolWorker-7 reading DATA/text1.rst\n",
            "\n",
            "TOP 20 WORDS BY FREQUENCY\n",
            "\n",
            "my    :    67\n",
            "i     :    60\n",
            "her   :    43\n",
            "he    :    41\n",
            "quiz  :    33\n",
            "quick :    28\n",
            "was   :    28\n",
            "his   :    23\n",
            "fox   :    22\n",
            "she   :    21\n",
            "from  :    20\n",
            "when  :    20\n",
            "blind :    19\n",
            "vex   :    18\n",
            "have  :    18\n",
            "would :    18\n",
            "but   :    18\n",
            "so    :    18\n",
            "on    :    17\n",
            "big   :    16\n"
          ]
        }
      ],
      "source": [
        "import operator\n",
        "import glob #easy file access\n",
        "\n",
        "input_files = glob.glob('DATA/*.rst')#get all text files names \n",
        "\n",
        "mapper = SimpleMapReduce(file_to_words, count_words)#get mapreduce instance with custom map and reduce functions\n",
        "word_counts = mapper(input_files)#call parallel mapreduce on files\n",
        "\n",
        "word_counts.sort(key=operator.itemgetter(1))#sort results\n",
        "word_counts.reverse()\n",
        "\n",
        "print('\\nTOP 20 WORDS BY FREQUENCY\\n')\n",
        "top20 = word_counts[:20]\n",
        "longest = max(len(word) for word, count in top20)\n",
        "for word, count in top20:\n",
        "    print('{word:<{len}}: {count:5}'.format(\n",
        "            len=longest + 1,\n",
        "            word=word,\n",
        "            count=count)\n",
        "    )"
      ]
    },
    {
      "cell_type": "markdown",
      "metadata": {
        "id": "Ej6FC0L6xPkP"
      },
      "source": [
        "## K-Means implementation\n",
        "Use the simple frame work to implement K-Means"
      ]
    },
    {
      "cell_type": "code",
      "execution_count": 36,
      "metadata": {
        "id": "bRP1a_97xPkQ"
      },
      "outputs": [],
      "source": [
        "import numpy as np\n",
        "import matplotlib.pyplot as plt\n",
        "\n",
        "from sklearn.cluster import KMeans\n",
        "from sklearn.datasets import make_blobs"
      ]
    },
    {
      "cell_type": "code",
      "execution_count": 37,
      "metadata": {
        "id": "vee6lpItxPkR",
        "outputId": "aee742a2-3c52-4aad-fe15-cdb14b0e4425",
        "colab": {
          "base_uri": "https://localhost:8080/",
          "height": 283
        }
      },
      "outputs": [
        {
          "output_type": "execute_result",
          "data": {
            "text/plain": [
              "<matplotlib.collections.PathCollection at 0x7f0c1f3f71d0>"
            ]
          },
          "metadata": {},
          "execution_count": 37
        },
        {
          "output_type": "display_data",
          "data": {
            "text/plain": [
              "<Figure size 432x288 with 1 Axes>"
            ],
            "image/png": "[encoded data removed]"
          },
          "metadata": {
            "needs_background": "light"
          }
        }
      ],
      "source": [
        "#generate data with K=4\n",
        "X, y = make_blobs(n_samples=1500, centers=4)\n",
        "plt.scatter(X[:, 0], X[:, 1])"
      ]
    },
    {
      "cell_type": "code",
      "execution_count": 38,
      "metadata": {
        "id": "WSWww8kyxPkT",
        "outputId": "6d8e2a9d-ba29-425f-f5d0-585987dc8e55",
        "colab": {
          "base_uri": "https://localhost:8080/",
          "height": 283
        }
      },
      "outputs": [
        {
          "output_type": "execute_result",
          "data": {
            "text/plain": [
              "<matplotlib.collections.PathCollection at 0x7f0c20d74b90>"
            ]
          },
          "metadata": {},
          "execution_count": 38
        },
        {
          "output_type": "display_data",
          "data": {
            "text/plain": [
              "<Figure size 432x288 with 1 Axes>"
            ],
            "image/png": "[encoded data removed]"
          },
          "metadata": {
            "needs_background": "light"
          }
        }
      ],
      "source": [
        "#K-Means ref implementation\n",
        "k = KMeans(n_clusters=4)\n",
        "y_pred = k.fit_predict(X)\n",
        "\n",
        "plt.scatter(X[:, 0], X[:, 1], c=y_pred)"
      ]
    },
    {
      "cell_type": "code",
      "execution_count": 39,
      "metadata": {
        "id": "cyB84SShxPkU",
        "outputId": "856a9434-d3a2-444e-d801-9432db83afea",
        "colab": {
          "base_uri": "https://localhost:8080/"
        }
      },
      "outputs": [
        {
          "output_type": "execute_result",
          "data": {
            "text/plain": [
              "array([[ 5.20690433,  2.60210329],\n",
              "       [-0.76637153,  9.8519309 ],\n",
              "       [ 9.2852258 ,  5.16485291],\n",
              "       [-1.40870639,  7.25474477]])"
            ]
          },
          "metadata": {},
          "execution_count": 39
        }
      ],
      "source": [
        "k.cluster_centers_"
      ]
    },
    {
      "cell_type": "code",
      "execution_count": 40,
      "metadata": {
        "id": "K2aX5qr1xPkX"
      },
      "outputs": [],
      "source": [
        "#implement map -> assign data to center \n",
        "def kMap( c ): \n",
        "  tc  = [0 for a in range(len(c))]\n",
        "  for i in range(len(c)):\n",
        "    tc[i] = (np.linalg.norm(X[0,:]-c[i]))\n",
        "  return [(tc.index(min(tc)),c)]"
      ]
    },
    {
      "cell_type": "code",
      "execution_count": 56,
      "metadata": {
        "id": "pjFMRouexPka"
      },
      "outputs": [],
      "source": [
        "#implement reduce -> compute new centers\n",
        "def kReduce( a ):\n",
        "  index, vect = a;\n",
        "\n",
        "  return np.mean(X[index,:]);"
      ]
    },
    {
      "cell_type": "code",
      "execution_count": 42,
      "metadata": {
        "id": "ukxnvOCZxPkb",
        "outputId": "b42a4ae9-0dd9-4c28-eb9b-8e5e767702f4",
        "colab": {
          "base_uri": "https://localhost:8080/"
        }
      },
      "outputs": [
        {
          "output_type": "stream",
          "name": "stdout",
          "text": [
            "init center [[-0.760917    9.30320434]\n",
            " [10.48995992  6.36255921]\n",
            " [-1.76676813  6.85760691]\n",
            " [ 8.78418328  4.33848072]]\n"
          ]
        }
      ],
      "source": [
        "#init centers\n",
        "center = X[np.random.randint(X.shape[0], size=4), :]#get 4 random datapoints\n",
        "print('init center', center)"
      ]
    },
    {
      "cell_type": "code",
      "execution_count": 54,
      "metadata": {
        "id": "gy-hgdH7xPkc"
      },
      "outputs": [],
      "source": [
        "#use framework\n",
        "mapper = SimpleMapReduce(kMap, kReduce)#get mapreduce instance with custom map and reduce functions\n",
        "center = mapper(X)#call parallel mapreduce oo data"
      ]
    },
    {
      "cell_type": "code",
      "execution_count": 55,
      "metadata": {
        "id": "OtimV4S_xPkc",
        "outputId": "d314d088-ee1b-4ba4-a45c-465630f4d890",
        "colab": {
          "base_uri": "https://localhost:8080/"
        }
      },
      "outputs": [
        {
          "output_type": "execute_result",
          "data": {
            "text/plain": [
              "[[0, 6.947939944822813], [1, 3.413151656912447]]"
            ]
          },
          "metadata": {},
          "execution_count": 55
        }
      ],
      "source": [
        "center"
      ]
    }
  ],
  "metadata": {
    "kernelspec": {
      "display_name": "Python 3",
      "language": "python",
      "name": "python3"
    },
    "language_info": {
      "codemirror_mode": {
        "name": "ipython",
        "version": 3
      },
      "file_extension": ".py",
      "mimetype": "text/x-python",
      "name": "python",
      "nbconvert_exporter": "python",
      "pygments_lexer": "ipython3",
      "version": "3.7.6"
    },
    "colab": {
      "name": "Assignment_Parallel_MapReduce.ipynb",
      "provenance": [],
      "include_colab_link": true
    }
  },
  "nbformat": 4,
  "nbformat_minor": 0
}