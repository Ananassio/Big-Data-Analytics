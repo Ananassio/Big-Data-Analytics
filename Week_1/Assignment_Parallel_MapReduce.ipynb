{
  "cells": [
    {
      "cell_type": "markdown",
      "metadata": {
        "id": "view-in-github",
        "colab_type": "text"
      },
      "source": [
        "<a href=\"https://colab.research.google.com/github/Ananassio/Big-Data-Analytics/blob/main/Week_1/Assignment_Parallel_MapReduce.ipynb\" target=\"_parent\"><img src=\"https://colab.research.google.com/assets/colab-badge.svg\" alt=\"Open In Colab\"/></a>"
      ]
    },
    {
      "cell_type": "markdown",
      "metadata": {
        "id": "DtZThsA-xPkD"
      },
      "source": [
        "# Ex 1.2: A simple parallel MapReduce framework in Python\n",
        "Now we use the [*multiprocessing*](https://docs.python.org/3/library/multiprocessing.html) lib to actually do things in parallel"
      ]
    },
    {
      "cell_type": "code",
      "execution_count": 21,
      "metadata": {
        "id": "oSSv9lhaxPkG",
        "outputId": "b1dc9304-1e0c-4dcc-a50b-6203b52e3312",
        "colab": {
          "base_uri": "https://localhost:8080/"
        }
      },
      "outputs": [
        {
          "output_type": "stream",
          "name": "stdout",
          "text": [
            "fatal: destination path 'DATA' already exists and is not an empty directory.\n"
          ]
        }
      ],
      "source": [
        "#in colab, we need to clone the data from the repo\n",
        "!git clone https://github.com/keuperj/DATA.git"
      ]
    },
    {
      "cell_type": "code",
      "execution_count": 22,
      "metadata": {
        "id": "agnKf05WxPkI"
      },
      "outputs": [],
      "source": [
        "import collections\n",
        "import itertools\n",
        "import multiprocessing\n",
        "\n",
        "\n",
        "class SimpleMapReduce:\n",
        "\n",
        "    def __init__(self, map_func, reduce_func, num_workers=None):\n",
        "        \"\"\"\n",
        "        map_func\n",
        "\n",
        "          F oh unction to map inputs to intermediate data. Takes as\n",
        "          argument one input value and returns a tuple with the\n",
        "          key and a value to be reduced.\n",
        "\n",
        "        reduce_func\n",
        "\n",
        "          Function to reduce partitioned version of intermediate\n",
        "          data to final output. Takes as argument a key as\n",
        "          produced by map_func and a sequence of the values\n",
        "          associated with that key.\n",
        "\n",
        "        num_workers\n",
        "\n",
        "          The number of workers to create in the pool. Defaults\n",
        "          to the number of CPUs available on the current host.\n",
        "        \"\"\"\n",
        "        self.map_func = map_func\n",
        "        self.reduce_func = reduce_func\n",
        "        self.pool = multiprocessing.Pool(num_workers)\n",
        "\n",
        "    def partition(self, mapped_values):\n",
        "        \"\"\"Organize the mapped values by their key.\n",
        "        Returns an unsorted sequence of tuples with a key\n",
        "        and a sequence of values.\n",
        "        \"\"\"\n",
        "        partitioned_data = collections.defaultdict(list)\n",
        "        for key, value in mapped_values:\n",
        "            partitioned_data[key].append(value)\n",
        "        return partitioned_data.items()\n",
        "\n",
        "    def __call__(self, inputs, chunksize=1):\n",
        "        \"\"\"Process the inputs through the map and reduce functions\n",
        "        given.\n",
        "\n",
        "        inputs\n",
        "          An iterable containing the input data to be processed.\n",
        "\n",
        "        chunksize=1\n",
        "          The portion of the input data to hand to each worker.\n",
        "          This can be used to tune performance during the mapping\n",
        "          phase.\n",
        "        \"\"\"\n",
        "        map_responses = self.pool.map(\n",
        "            self.map_func,\n",
        "            inputs,\n",
        "            chunksize=chunksize,\n",
        "        )\n",
        "        partitioned_data = self.partition(\n",
        "            itertools.chain(*map_responses)\n",
        "        )\n",
        "        reduced_values = self.pool.map(\n",
        "            self.reduce_func,\n",
        "            partitioned_data,\n",
        "        )\n",
        "        return reduced_values"
      ]
    },
    {
      "cell_type": "markdown",
      "metadata": {
        "id": "gnPVghE4xPkL"
      },
      "source": [
        "### A Word Count example"
      ]
    },
    {
      "cell_type": "code",
      "execution_count": null,
      "metadata": {
        "id": "tO6DSuiAxPkN"
      },
      "outputs": [],
      "source": [
        "import string\n",
        "\n",
        "# map - read file and count words\n",
        "def file_to_words(filename):\n",
        "    \"\"\"Read a file and return a sequence of\n",
        "    (word, occurences) values.\n",
        "    \"\"\"\n",
        "    STOP_WORDS = set([\n",
        "        'a', 'an', 'and', 'are', 'as', 'be', 'by', 'for', 'if',\n",
        "        'in', 'is', 'it', 'of', 'or', 'py', 'rst', 'that', 'the',\n",
        "        'to', 'with',\n",
        "    ])\n",
        "    TR = str.maketrans({\n",
        "        p: ' '\n",
        "        for p in string.punctuation\n",
        "    })\n",
        "\n",
        "    print('{} reading {}'.format(\n",
        "        multiprocessing.current_process().name, filename))\n",
        "    output = []\n",
        "\n",
        "    with open(filename, 'rt') as f:\n",
        "        for line in f:\n",
        "            # Skip comment lines.\n",
        "            if line.lstrip().startswith('..'):\n",
        "                continue\n",
        "            line = line.translate(TR)  # Strip punctuation\n",
        "            for word in line.split():\n",
        "                word = word.lower()\n",
        "                if word.isalpha() and word not in STOP_WORDS:\n",
        "                    output.append((word, 1))\n",
        "    return output\n",
        "\n",
        "# reduce\n",
        "def count_words(item):\n",
        "    \"\"\"Convert the partitioned data for a word to a\n",
        "    tuple containing the word and the number of occurences.\n",
        "    \"\"\"\n",
        "    word, occurences = item\n",
        "    return (word, sum(occurences))"
      ]
    },
    {
      "cell_type": "code",
      "execution_count": null,
      "metadata": {
        "id": "1udSUUpSxPkP",
        "outputId": "0ea2a773-8292-4f99-8089-257b9d90bd3d",
        "colab": {
          "base_uri": "https://localhost:8080/"
        }
      },
      "outputs": [
        {
          "output_type": "stream",
          "name": "stdout",
          "text": [
            "ForkPoolWorker-1 reading DATA/text4.rst\n",
            "ForkPoolWorker-2 reading DATA/text1.rst\n",
            "ForkPoolWorker-1 reading DATA/text2.rst\n",
            "ForkPoolWorker-2 reading DATA/text3.rst\n",
            "\n",
            "TOP 20 WORDS BY FREQUENCY\n",
            "\n",
            "my    :    67\n",
            "i     :    60\n",
            "her   :    43\n",
            "he    :    41\n",
            "quiz  :    33\n",
            "quick :    28\n",
            "was   :    28\n",
            "his   :    23\n",
            "fox   :    22\n",
            "she   :    21\n",
            "from  :    20\n",
            "when  :    20\n",
            "blind :    19\n",
            "vex   :    18\n",
            "would :    18\n",
            "so    :    18\n",
            "have  :    18\n",
            "but   :    18\n",
            "on    :    17\n",
            "big   :    16\n"
          ]
        }
      ],
      "source": [
        "import operator\n",
        "import glob #easy file access\n",
        "\n",
        "input_files = glob.glob('DATA/*.rst')#get all text files names \n",
        "\n",
        "mapper = SimpleMapReduce(file_to_words, count_words)#get mapreduce instance with custom map and reduce functions\n",
        "word_counts = mapper(input_files)#call parallel mapreduce on files\n",
        "\n",
        "word_counts.sort(key=operator.itemgetter(1))#sort results\n",
        "word_counts.reverse()\n",
        "\n",
        "print('\\nTOP 20 WORDS BY FREQUENCY\\n')\n",
        "top20 = word_counts[:20]\n",
        "longest = max(len(word) for word, count in top20)\n",
        "for word, count in top20:\n",
        "    print('{word:<{len}}: {count:5}'.format(\n",
        "            len=longest + 1,\n",
        "            word=word,\n",
        "            count=count)\n",
        "    )"
      ]
    },
    {
      "cell_type": "markdown",
      "metadata": {
        "id": "Ej6FC0L6xPkP"
      },
      "source": [
        "## K-Means implementation\n",
        "Use the simple frame work to implement K-Means"
      ]
    },
    {
      "cell_type": "code",
      "execution_count": 23,
      "metadata": {
        "id": "bRP1a_97xPkQ"
      },
      "outputs": [],
      "source": [
        "import numpy as np\n",
        "import matplotlib.pyplot as plt\n",
        "\n",
        "from sklearn.cluster import KMeans\n",
        "from sklearn.datasets import make_blobs"
      ]
    },
    {
      "cell_type": "code",
      "execution_count": 24,
      "metadata": {
        "id": "vee6lpItxPkR",
        "outputId": "de14209a-e3fd-417d-906d-c5ee90556732",
        "colab": {
          "base_uri": "https://localhost:8080/",
          "height": 284
        }
      },
      "outputs": [
        {
          "output_type": "execute_result",
          "data": {
            "text/plain": [
              "<matplotlib.collections.PathCollection at 0x7f0c21ef1590>"
            ]
          },
          "metadata": {},
          "execution_count": 24
        },
        {
          "output_type": "display_data",
          "data": {
            "text/plain": [
              "<Figure size 432x288 with 1 Axes>"
            ],
            "image/png": "[encoded data removed]"
          },
          "metadata": {
            "needs_background": "light"
          }
        }
      ],
      "source": [
        "#generate data with K=4\n",
        "X, y = make_blobs(n_samples=1500, centers=4)\n",
        "plt.scatter(X[:, 0], X[:, 1])"
      ]
    },
    {
      "cell_type": "code",
      "execution_count": 25,
      "metadata": {
        "id": "WSWww8kyxPkT",
        "outputId": "5414183b-420e-4e2a-fdad-e5d44cbcf62f",
        "colab": {
          "base_uri": "https://localhost:8080/",
          "height": 284
        }
      },
      "outputs": [
        {
          "output_type": "execute_result",
          "data": {
            "text/plain": [
              "<matplotlib.collections.PathCollection at 0x7f0c1f3a8c10>"
            ]
          },
          "metadata": {},
          "execution_count": 25
        },
        {
          "output_type": "display_data",
          "data": {
            "text/plain": [
              "<Figure size 432x288 with 1 Axes>"
            ],
            "image/png": "[encoded data removed]"
          },
          "metadata": {
            "needs_background": "light"
          }
        }
      ],
      "source": [
        "#K-Means ref implementation\n",
        "k = KMeans(n_clusters=4)\n",
        "y_pred = k.fit_predict(X)\n",
        "\n",
        "plt.scatter(X[:, 0], X[:, 1], c=y_pred)"
      ]
    },
    {
      "cell_type": "code",
      "execution_count": 26,
      "metadata": {
        "id": "cyB84SShxPkU",
        "outputId": "310c8fb3-4213-48a3-8eac-0455328bc416",
        "colab": {
          "base_uri": "https://localhost:8080/"
        }
      },
      "outputs": [
        {
          "output_type": "execute_result",
          "data": {
            "text/plain": [
              "array([[-4.67937109, -3.66792248],\n",
              "       [ 9.77800042, -1.03018468],\n",
              "       [ 8.04878849,  6.6165627 ],\n",
              "       [ 7.0432553 , -6.67883199]])"
            ]
          },
          "metadata": {},
          "execution_count": 26
        }
      ],
      "source": [
        "k.cluster_centers_"
      ]
    },
    {
      "cell_type": "code",
      "execution_count": 27,
      "metadata": {
        "id": "K2aX5qr1xPkX"
      },
      "outputs": [],
      "source": [
        "#implement map -> assign data to center \n",
        "def kMap( c ): \n",
        "  tc  = [0 for a in range(len(c))]\n",
        "  for i in range(len(c)):\n",
        "    tc[i] = (np.linalg.norm(X[0,:]-c[i]))\n",
        "  return [(tc.index(min(tc)),c)]"
      ]
    },
    {
      "cell_type": "code",
      "execution_count": 28,
      "metadata": {
        "id": "pjFMRouexPka"
      },
      "outputs": [],
      "source": [
        "#implement reduce -> compute new centers\n",
        "def kReduce( a ):\n",
        "  index, vect = a;\n",
        "\n",
        "  return np.mean(X[index,:]);"
      ]
    },
    {
      "cell_type": "code",
      "execution_count": null,
      "metadata": {
        "id": "ukxnvOCZxPkb",
        "outputId": "22e7ba07-65b6-4c93-b876-405a214c59df",
        "colab": {
          "base_uri": "https://localhost:8080/"
        }
      },
      "outputs": [
        {
          "output_type": "stream",
          "name": "stdout",
          "text": [
            "init center [[-7.39606757  3.37280446]\n",
            " [-8.61363486  3.29976578]\n",
            " [-5.32689675  2.07807816]\n",
            " [-9.14935931  2.81617167]]\n"
          ]
        }
      ],
      "source": [
        "#init centers\n",
        "center = X[np.random.randint(X.shape[0], size=4), :]#get 4 random datapoints\n",
        "print('init center', center)"
      ]
    },
    {
      "cell_type": "code",
      "execution_count": 29,
      "metadata": {
        "id": "gy-hgdH7xPkc"
      },
      "outputs": [],
      "source": [
        "#use framework\n",
        "mapper = SimpleMapReduce(kMap, kReduce)#get mapreduce instance with custom map and reduce functions\n",
        "center = mapper(X)#call parallel mapreduce oo data"
      ]
    },
    {
      "cell_type": "code",
      "execution_count": 30,
      "metadata": {
        "id": "OtimV4S_xPkc",
        "outputId": "385a62d6-fe9b-40ec-9044-4cbc3ca41d66",
        "colab": {
          "base_uri": "https://localhost:8080/"
        }
      },
      "outputs": [
        {
          "output_type": "execute_result",
          "data": {
            "text/plain": [
              "[-3.6689974532232372, 4.572390835943629]"
            ]
          },
          "metadata": {},
          "execution_count": 30
        }
      ],
      "source": [
        "center"
      ]
    },
    {
      "cell_type": "code",
      "source": [
        "for i in range(len(center)):\n",
        "  tc[i] = (np.linalg.norm(X[0,:]-center[i]))\n"
      ],
      "metadata": {
        "id": "0oGgGRMbGx1i"
      },
      "execution_count": null,
      "outputs": []
    },
    {
      "cell_type": "code",
      "source": [
        "type(tc)"
      ],
      "metadata": {
        "id": "Ujs3O2HcIOxu",
        "outputId": "8fa3dda4-48a7-4a5a-c190-c8322e0721dc",
        "colab": {
          "base_uri": "https://localhost:8080/"
        }
      },
      "execution_count": null,
      "outputs": [
        {
          "output_type": "execute_result",
          "data": {
            "text/plain": [
              "list"
            ]
          },
          "metadata": {},
          "execution_count": 58
        }
      ]
    },
    {
      "cell_type": "code",
      "source": [
        "tc.index(min(tc))"
      ],
      "metadata": {
        "id": "G3QH5hLRLFe9",
        "outputId": "bff608c1-13cf-47e0-948e-3c156d951190",
        "colab": {
          "base_uri": "https://localhost:8080/"
        }
      },
      "execution_count": null,
      "outputs": [
        {
          "output_type": "execute_result",
          "data": {
            "text/plain": [
              "1"
            ]
          },
          "metadata": {},
          "execution_count": 57
        }
      ]
    },
    {
      "cell_type": "code",
      "source": [
        "X[0,:]"
      ],
      "metadata": {
        "id": "GaiO-V9rOdDO",
        "outputId": "94726d6c-ba4d-4556-b595-b49557823707",
        "colab": {
          "base_uri": "https://localhost:8080/"
        }
      },
      "execution_count": null,
      "outputs": [
        {
          "output_type": "execute_result",
          "data": {
            "text/plain": [
              "array([-8.09416149, -4.44665158])"
            ]
          },
          "metadata": {},
          "execution_count": 38
        }
      ]
    },
    {
      "cell_type": "code",
      "source": [
        "B =  list((map(kMap,X)) )"
      ],
      "metadata": {
        "id": "Jgqs9um_o6uZ"
      },
      "execution_count": null,
      "outputs": []
    },
    {
      "cell_type": "code",
      "source": [
        "import functools \n",
        "print (functools.reduce(kReduce,B)) "
      ],
      "metadata": {
        "id": "gkbluxRQsj8J",
        "outputId": "1e197b2b-9e82-4bef-d082-8be76b44c8fd",
        "colab": {
          "base_uri": "https://localhost:8080/",
          "height": 294
        }
      },
      "execution_count": null,
      "outputs": [
        {
          "output_type": "error",
          "ename": "IndexError",
          "evalue": "ignored",
          "traceback": [
            "\u001b[0;31m---------------------------------------------------------------------------\u001b[0m",
            "\u001b[0;31mIndexError\u001b[0m                                Traceback (most recent call last)",
            "\u001b[0;32m<ipython-input-78-43d8a0be6461>\u001b[0m in \u001b[0;36m<module>\u001b[0;34m()\u001b[0m\n\u001b[1;32m      1\u001b[0m \u001b[0;32mimport\u001b[0m \u001b[0mfunctools\u001b[0m\u001b[0;34m\u001b[0m\u001b[0;34m\u001b[0m\u001b[0m\n\u001b[0;32m----> 2\u001b[0;31m \u001b[0mprint\u001b[0m \u001b[0;34m(\u001b[0m\u001b[0mfunctools\u001b[0m\u001b[0;34m.\u001b[0m\u001b[0mreduce\u001b[0m\u001b[0;34m(\u001b[0m\u001b[0mkReduce\u001b[0m\u001b[0;34m,\u001b[0m\u001b[0mB\u001b[0m\u001b[0;34m)\u001b[0m\u001b[0;34m)\u001b[0m\u001b[0;34m\u001b[0m\u001b[0;34m\u001b[0m\u001b[0m\n\u001b[0m",
            "\u001b[0;32m<ipython-input-77-f122611e5e01>\u001b[0m in \u001b[0;36mkReduce\u001b[0;34m(a, b)\u001b[0m\n\u001b[1;32m      1\u001b[0m \u001b[0;31m#implement reduce -> compute new centers\u001b[0m\u001b[0;34m\u001b[0m\u001b[0;34m\u001b[0m\u001b[0;34m\u001b[0m\u001b[0m\n\u001b[1;32m      2\u001b[0m \u001b[0;32mdef\u001b[0m \u001b[0mkReduce\u001b[0m\u001b[0;34m(\u001b[0m \u001b[0ma\u001b[0m\u001b[0;34m,\u001b[0m\u001b[0mb\u001b[0m \u001b[0;34m)\u001b[0m\u001b[0;34m:\u001b[0m\u001b[0;34m\u001b[0m\u001b[0;34m\u001b[0m\u001b[0m\n\u001b[0;32m----> 3\u001b[0;31m   \u001b[0mcenter\u001b[0m\u001b[0;34m[\u001b[0m\u001b[0ma\u001b[0m\u001b[0;34m,\u001b[0m\u001b[0;34m:\u001b[0m\u001b[0;34m]\u001b[0m \u001b[0;34m=\u001b[0m \u001b[0mnp\u001b[0m\u001b[0;34m.\u001b[0m\u001b[0mmean\u001b[0m\u001b[0;34m(\u001b[0m\u001b[0mX\u001b[0m\u001b[0;34m[\u001b[0m\u001b[0ma\u001b[0m\u001b[0;34m,\u001b[0m\u001b[0;34m:\u001b[0m\u001b[0;34m]\u001b[0m\u001b[0;34m)\u001b[0m\u001b[0;34m;\u001b[0m\u001b[0;34m\u001b[0m\u001b[0;34m\u001b[0m\u001b[0m\n\u001b[0m\u001b[1;32m      4\u001b[0m   \u001b[0;32mreturn\u001b[0m \u001b[0mcenter\u001b[0m\u001b[0;34m[\u001b[0m\u001b[0ma\u001b[0m\u001b[0;34m,\u001b[0m\u001b[0;34m:\u001b[0m\u001b[0;34m]\u001b[0m\u001b[0;34m\u001b[0m\u001b[0;34m\u001b[0m\u001b[0m\n",
            "\u001b[0;31mIndexError\u001b[0m: arrays used as indices must be of integer (or boolean) type"
          ]
        }
      ]
    },
    {
      "cell_type": "code",
      "source": [
        "s"
      ],
      "metadata": {
        "id": "47bpLHiBs1_N",
        "outputId": "a4113abc-2959-4312-836c-89b21c80c8e0",
        "colab": {
          "base_uri": "https://localhost:8080/"
        }
      },
      "execution_count": null,
      "outputs": [
        {
          "output_type": "execute_result",
          "data": {
            "text/plain": [
              "array([[-0., -0.],\n",
              "       [ 0., -0.],\n",
              "       [ 0., -0.],\n",
              "       ...,\n",
              "       [-0., -0.],\n",
              "       [-0., -0.],\n",
              "       [ 0., -0.]])"
            ]
          },
          "metadata": {},
          "execution_count": 47
        }
      ]
    },
    {
      "cell_type": "code",
      "source": [
        ""
      ],
      "metadata": {
        "id": "uWMr5Pgss2gg"
      },
      "execution_count": null,
      "outputs": []
    }
  ],
  "metadata": {
    "kernelspec": {
      "display_name": "Python 3",
      "language": "python",
      "name": "python3"
    },
    "language_info": {
      "codemirror_mode": {
        "name": "ipython",
        "version": 3
      },
      "file_extension": ".py",
      "mimetype": "text/x-python",
      "name": "python",
      "nbconvert_exporter": "python",
      "pygments_lexer": "ipython3",
      "version": "3.7.6"
    },
    "colab": {
      "name": "Assignment_Parallel_MapReduce.ipynb",
      "provenance": [],
      "include_colab_link": true
    }
  },
  "nbformat": 4,
  "nbformat_minor": 0
}