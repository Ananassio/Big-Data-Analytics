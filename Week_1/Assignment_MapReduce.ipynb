{
  "cells": [
    {
      "cell_type": "markdown",
      "metadata": {
        "id": "view-in-github",
        "colab_type": "text"
      },
      "source": [
        "<a href=\"https://colab.research.google.com/github/Ananassio/Big-Data-Analytics/blob/main/Week_1/Assignment_MapReduce.ipynb\" target=\"_parent\"><img src=\"https://colab.research.google.com/assets/colab-badge.svg\" alt=\"Open In Colab\"/></a>"
      ]
    },
    {
      "cell_type": "markdown",
      "metadata": {
        "id": "d5X6xL5qBp9T"
      },
      "source": [
        "# MapReduce with Python Functional Programming"
      ]
    },
    {
      "cell_type": "markdown",
      "metadata": {
        "id": "BC_-Uf9bBp9W"
      },
      "source": [
        "#### Python *map* function\n",
        "Python has a built in *map* function -> [see python docs](https://docs.python.org/3/library/functions.html#map)\n",
        "* ``map(function, iterable object)`` applies a function to every member of the object (=data structure)\n",
        "* iterable objects are e.g. lists, dicts, arrays, ... but also custom data structures (see [here](https://thispointer.com/python-how-to-make-a-class-iterable-create-iterator-class-for-it/))"
      ]
    },
    {
      "cell_type": "code",
      "execution_count": 1,
      "metadata": {
        "id": "pewUUrXXBp9X",
        "outputId": "12eeacfb-f76c-4b87-c263-ab95ca18f8d6",
        "colab": {
          "base_uri": "https://localhost:8080/"
        }
      },
      "outputs": [
        {
          "output_type": "stream",
          "name": "stdout",
          "text": [
            "[1, 2, 3, 4]\n",
            "[2, 3, 4, 5]\n"
          ]
        }
      ],
      "source": [
        "#example\n",
        "def Plus1(a):\n",
        "    return a+1\n",
        "\n",
        "A = [1,2,3,4]\n",
        "print(A)\n",
        "B = list(map(Plus1,A)) #need to cast map output to list\n",
        "print(B)"
      ]
    },
    {
      "cell_type": "code",
      "execution_count": 2,
      "metadata": {
        "id": "IAZlm3uKBp9Z",
        "outputId": "fa46821a-e052-4cc4-df12-c1fd570f5dd0",
        "colab": {
          "base_uri": "https://localhost:8080/"
        }
      },
      "outputs": [
        {
          "output_type": "stream",
          "name": "stdout",
          "text": [
            "[1, 2, 3, 4]\n",
            "[3, 4, 5, 6]\n",
            "[2, 3, 6, 7]\n"
          ]
        }
      ],
      "source": [
        "#example 2 - map with an function that takes arguments\n",
        "from functools import partial\n",
        "\n",
        "def PlusX(a,x):\n",
        "    return a+x\n",
        "\n",
        "\n",
        "A = [1,2,3,4]\n",
        "print(A)\n",
        "B = list(map(partial(PlusX,x=2),A)) #use partial to fix parameters \n",
        "print(B)\n",
        "\n",
        "C = [1,1,3,3]\n",
        "D = list(map(PlusX,A,C)) #or input multiple iterable objects\n",
        "print(D)"
      ]
    },
    {
      "cell_type": "code",
      "execution_count": 3,
      "metadata": {
        "id": "2IhEi8SSBp9Z",
        "outputId": "c7f2f8c0-15d9-4c0c-a296-4fba6074f152",
        "colab": {
          "base_uri": "https://localhost:8080/"
        }
      },
      "outputs": [
        {
          "output_type": "stream",
          "name": "stdout",
          "text": [
            "[2, 3, 4, 5]\n"
          ]
        }
      ],
      "source": [
        "#example 3 - map with lmbda functions\n",
        "A = [1,2,3,4]\n",
        "B = list(map(lambda x:x+1,A ))#implement function directly with lambda\n",
        "print(B)"
      ]
    },
    {
      "cell_type": "code",
      "execution_count": 4,
      "metadata": {
        "id": "DuvyOl2nBp9a",
        "outputId": "9f1ff38d-5882-43fd-d94a-3f95c8fd6fb1",
        "colab": {
          "base_uri": "https://localhost:8080/"
        }
      },
      "outputs": [
        {
          "output_type": "execute_result",
          "data": {
            "text/plain": [
              "array([[ 7.52870056,  1.22006511, 14.69893351, 13.47285265,  9.326595  ,\n",
              "        15.7050129 , 19.2720533 , 13.23695714,  5.80388455, 19.22438278],\n",
              "       [15.48089825,  8.19762069,  3.97308298,  3.07920881,  5.40866582,\n",
              "         1.54765184, 15.99943979,  1.10197895,  5.79229611, 17.96025078],\n",
              "       [11.47859431, 17.15220358,  1.03955458, 15.0616364 ,  8.35506269,\n",
              "         0.5146711 , 18.73473238,  3.30168391,  1.58665835,  5.93907173],\n",
              "       [ 6.28957874,  9.88136924,  0.5940724 ,  5.33321981, 19.38409025,\n",
              "        19.51044777,  7.28507078, 19.59236001,  7.00241462, 10.43485393],\n",
              "       [ 7.46800196, 12.41101675, 14.01595875,  0.45270854,  2.78046065,\n",
              "         9.55284729, 14.80117776, 15.66975375, 10.95675687, 19.58067993],\n",
              "       [13.56244463, 13.15646669, 12.91171656, 17.85943731,  5.44577868,\n",
              "         3.68168658, 15.09403159, 19.35474553, 11.31006713,  1.22587061],\n",
              "       [ 8.82592207,  8.21380936, 19.91810621, 11.0606615 , 17.43583171,\n",
              "         0.40656315, 19.69897288,  7.81002515,  8.39923018,  1.58677313],\n",
              "       [ 9.10291775,  8.67394323,  8.35049176,  3.73453599, 15.34535158,\n",
              "         2.81909359,  2.22587222, 13.63910781,  9.14145345,  4.95617369],\n",
              "       [ 7.14524014,  9.70925493,  1.22870685, 18.29899216,  8.52190175,\n",
              "         3.29385102, 18.31428103, 11.59862294,  3.87710127, 16.99461443],\n",
              "       [18.16819015, 14.3285806 , 11.07397688, 14.37908209,  6.34448722,\n",
              "        12.58000131, 10.35226525, 13.88724395, 13.32627682, 19.22379943]])"
            ]
          },
          "metadata": {},
          "execution_count": 4
        }
      ],
      "source": [
        "#example 4 - Numpy has map \"build in\"\n",
        "import numpy as np\n",
        "A = np.random.rand(10,10)*20\n",
        "A"
      ]
    },
    {
      "cell_type": "code",
      "execution_count": 5,
      "metadata": {
        "id": "Pp8wTCT_Bp9a"
      },
      "outputs": [],
      "source": [
        "#apply function directly on each element of an array\n",
        "def isLarger10(x):\n",
        "    return x>10\n",
        "\n",
        "B = isLarger10(A)"
      ]
    },
    {
      "cell_type": "code",
      "execution_count": 6,
      "metadata": {
        "id": "UTc2-_KABp9b",
        "outputId": "1be9b202-bebf-4e2c-c8af-bbe8803d824c",
        "colab": {
          "base_uri": "https://localhost:8080/"
        }
      },
      "outputs": [
        {
          "output_type": "execute_result",
          "data": {
            "text/plain": [
              "array([[False, False,  True,  True, False,  True,  True,  True, False,\n",
              "         True],\n",
              "       [ True, False, False, False, False, False,  True, False, False,\n",
              "         True],\n",
              "       [ True,  True, False,  True, False, False,  True, False, False,\n",
              "        False],\n",
              "       [False, False, False, False,  True,  True, False,  True, False,\n",
              "         True],\n",
              "       [False,  True,  True, False, False, False,  True,  True,  True,\n",
              "         True],\n",
              "       [ True,  True,  True,  True, False, False,  True,  True,  True,\n",
              "        False],\n",
              "       [False, False,  True,  True,  True, False,  True, False, False,\n",
              "        False],\n",
              "       [False, False, False, False,  True, False, False,  True, False,\n",
              "        False],\n",
              "       [False, False, False,  True, False, False,  True,  True, False,\n",
              "         True],\n",
              "       [ True,  True,  True,  True, False,  True,  True,  True,  True,\n",
              "         True]])"
            ]
          },
          "metadata": {},
          "execution_count": 6
        }
      ],
      "source": [
        "B"
      ]
    },
    {
      "cell_type": "markdown",
      "metadata": {
        "id": "IOvCE54mBp9c"
      },
      "source": [
        "#### *Reduce* in Python\n",
        "*functools* also provides a *reduce* function. Again, it will take a function and one ore more iterable objects as arguments. (see [API](https://docs.python.org/3/library/functools.html#functools.reduce))"
      ]
    },
    {
      "cell_type": "code",
      "execution_count": 7,
      "metadata": {
        "id": "lGMaucL_Bp9d",
        "outputId": "d0a2280e-fb65-4e43-9e86-f78a8ea79372",
        "colab": {
          "base_uri": "https://localhost:8080/"
        }
      },
      "outputs": [
        {
          "output_type": "stream",
          "name": "stdout",
          "text": [
            "The sum of the list elements is : 17\n",
            "The maximum element of the list is : 6\n"
          ]
        }
      ],
      "source": [
        "# importing functools for reduce() \n",
        "import functools \n",
        "  \n",
        "# initializing list \n",
        "lis = [ 1 , 3, 5, 6, 2, ] \n",
        "  \n",
        "def addIt(a,b):\n",
        "    return a+b\n",
        "\n",
        "# using reduce to compute sum of list \n",
        "print (\"The sum of the list elements is : \",end=\"\") \n",
        "print (functools.reduce(addIt,lis)) \n",
        "  \n",
        "# using reduce to compute maximum element from list \n",
        "print (\"The maximum element of the list is : \",end=\"\") \n",
        "print (functools.reduce(lambda a,b : a if a > b else b,lis)) "
      ]
    },
    {
      "cell_type": "markdown",
      "metadata": {
        "id": "NDAkHyJFBp9e"
      },
      "source": [
        "#### Splitting"
      ]
    },
    {
      "cell_type": "code",
      "execution_count": 8,
      "metadata": {
        "id": "ho7Sl2kuBp9e",
        "outputId": "9b8cbaf4-1a6d-4548-dd66-e584e341ecb9",
        "colab": {
          "base_uri": "https://localhost:8080/"
        }
      },
      "outputs": [
        {
          "output_type": "stream",
          "name": "stdout",
          "text": [
            "[1, 2, 3]\n",
            "[4, 5, 6]\n",
            "[7, 8, 9]\n"
          ]
        }
      ],
      "source": [
        "import more_itertools as mit\n",
        "\n",
        "A=[1,2,3,4,5,6,7,8,9]\n",
        "B=list(mit.chunked(A, 3)) #split into lists of max size 3\n",
        "\n",
        "for i in B: #iterate over the spitts \n",
        "    print(i)"
      ]
    },
    {
      "cell_type": "code",
      "execution_count": 9,
      "metadata": {
        "id": "II-RJ9tMBp9f",
        "outputId": "c086b58b-25aa-4962-ef02-d0c96cb512f8",
        "colab": {
          "base_uri": "https://localhost:8080/"
        }
      },
      "outputs": [
        {
          "output_type": "stream",
          "name": "stdout",
          "text": [
            "['t', 'h', 'i', 's', ' ']\n",
            "['i', 's', ' ', 'a', ' ']\n",
            "['s', 'h', 'o', 'r', 't']\n",
            "[' ', 't', 'e', 'x', 't']\n",
            "[' ', 'i', 'n', ' ', 'f']\n",
            "['o', 'r', 'm', ' ', 'o']\n",
            "['f', ' ', 'a', ' ', 'p']\n",
            "['y', 't', 'h', 'o', 'n']\n",
            "[' ', 's', 't', 'r', 'i']\n",
            "['n', 'g']\n"
          ]
        }
      ],
      "source": [
        "A='this is a short text in form of a python string'\n",
        "B=list(mit.chunked(A, 5)) #split into lists of max size 5\n",
        "\n",
        "for i in B: #iterate over the spitts \n",
        "    print(i)"
      ]
    },
    {
      "cell_type": "markdown",
      "metadata": {
        "id": "WgOFsUuOBp9f"
      },
      "source": [
        "## Exercise: build a simple *Character Count* Algorithm based on the above *split, map* and *reduce* operators "
      ]
    },
    {
      "cell_type": "code",
      "execution_count": 10,
      "metadata": {
        "id": "83a8F_sbBp9g"
      },
      "outputs": [],
      "source": [
        "#some text from NYTimes\n",
        "text = ' Byron Spencer, handing out water and burgers to protesters outside Los Angeles City Hall, said he was both “elated and defeated” by word of the new charges. He said he had seen countless surges of outrage over police brutality against black men, only to have it happen again. “I’m 55, I’m black and I’m male — I’ve seen the cycle,” he said. “It’s almost like PTSD constantly having this conversation with my son.” Cierra Sesay reacted to the charges at a demonstration in the shadow of the State Capitol in Denver. “It’s amazing, it’s another box we can check,” she said. “But it goes up so much higher. It’s about the system.” In San Francisco, Tevita Tomasi — who is of Polynesian descent and described himself as “dark and tall and big” — said he regularly faced racial profiling, evidence of the bigger forces that must be overcome. On Wednesday, he distributed bottled water at what he said was his first demonstration, but one that would not be his last. What would stop him from protesting?'"
      ]
    },
    {
      "cell_type": "markdown",
      "metadata": {
        "id": "2xeaWJDgBp9g"
      },
      "source": [
        "* HINT: use list pf *python* [dictionaries](https://docs.python.org/3/tutorial/datastructures.html#dictionaries) to store the character counts in the map\n",
        "* HINT 2: merge the dicts in reduce"
      ]
    },
    {
      "cell_type": "code",
      "source": [
        "def IsALetter(a,b):\n",
        "    if a not in ' ,.:;?!´\"':\n",
        "      b = '1'    \n",
        "    else:\n",
        "      b = '0'\n",
        "    return  b"
      ],
      "metadata": {
        "id": "ldrgIDBDkhaS"
      },
      "execution_count": 59,
      "outputs": []
    },
    {
      "cell_type": "code",
      "source": [
        "A = ['0']*len(text)"
      ],
      "metadata": {
        "id": "NlVMkfcXBK0K"
      },
      "execution_count": 60,
      "outputs": []
    },
    {
      "cell_type": "code",
      "source": [
        "B =  list((map(IsALetter,text,A)) )"
      ],
      "metadata": {
        "id": "MU4ywEUeldzM"
      },
      "execution_count": 61,
      "outputs": []
    },
    {
      "cell_type": "code",
      "source": [
        "def add(a,b):\n",
        "    return int(a)+int(b)\n",
        "\n",
        "print (\"The sum of the Letters in the text is : \",end=\"\") \n",
        "print (functools.reduce(add,B)) "
      ],
      "metadata": {
        "id": "wHcOTSZkB6MP",
        "outputId": "033fabae-7eb0-4254-89a5-0610862cba3e",
        "colab": {
          "base_uri": "https://localhost:8080/"
        }
      },
      "execution_count": 62,
      "outputs": [
        {
          "output_type": "stream",
          "name": "stdout",
          "text": [
            "The sum of the Letters in the text is : 800\n"
          ]
        }
      ]
    }
  ],
  "metadata": {
    "kernelspec": {
      "display_name": "Python 3",
      "language": "python",
      "name": "python3"
    },
    "language_info": {
      "codemirror_mode": {
        "name": "ipython",
        "version": 3
      },
      "file_extension": ".py",
      "mimetype": "text/x-python",
      "name": "python",
      "nbconvert_exporter": "python",
      "pygments_lexer": "ipython3",
      "version": "3.7.6"
    },
    "colab": {
      "name": "Assignment_MapReduce.ipynb",
      "provenance": [],
      "include_colab_link": true
    }
  },
  "nbformat": 4,
  "nbformat_minor": 0
}