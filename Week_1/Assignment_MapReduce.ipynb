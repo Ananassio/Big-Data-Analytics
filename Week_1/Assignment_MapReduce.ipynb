{
  "cells": [
    {
      "cell_type": "markdown",
      "metadata": {
        "id": "view-in-github",
        "colab_type": "text"
      },
      "source": [
        "<a href=\"https://colab.research.google.com/github/Ananassio/Big-Data-Analytics/blob/main/Week_1/Assignment_MapReduce.ipynb\" target=\"_parent\"><img src=\"https://colab.research.google.com/assets/colab-badge.svg\" alt=\"Open In Colab\"/></a>"
      ]
    },
    {
      "cell_type": "markdown",
      "metadata": {
        "id": "d5X6xL5qBp9T"
      },
      "source": [
        "# MapReduce with Python Functional Programming"
      ]
    },
    {
      "cell_type": "markdown",
      "metadata": {
        "id": "BC_-Uf9bBp9W"
      },
      "source": [
        "#### Python *map* function\n",
        "Python has a built in *map* function -> [see python docs](https://docs.python.org/3/library/functions.html#map)\n",
        "* ``map(function, iterable object)`` applies a function to every member of the object (=data structure)\n",
        "* iterable objects are e.g. lists, dicts, arrays, ... but also custom data structures (see [here](https://thispointer.com/python-how-to-make-a-class-iterable-create-iterator-class-for-it/))"
      ]
    },
    {
      "cell_type": "code",
      "execution_count": 1,
      "metadata": {
        "id": "pewUUrXXBp9X",
        "outputId": "12f4c729-ee8c-4365-d423-35280eab7457",
        "colab": {
          "base_uri": "https://localhost:8080/"
        }
      },
      "outputs": [
        {
          "output_type": "stream",
          "name": "stdout",
          "text": [
            "[1, 2, 3, 4]\n",
            "[2, 3, 4, 5]\n"
          ]
        }
      ],
      "source": [
        "#example\n",
        "def Plus1(a):\n",
        "    return a+1\n",
        "\n",
        "A = [1,2,3,4]\n",
        "print(A)\n",
        "B = list(map(Plus1,A)) #need to cast map output to list\n",
        "print(B)"
      ]
    },
    {
      "cell_type": "code",
      "execution_count": 2,
      "metadata": {
        "id": "IAZlm3uKBp9Z",
        "outputId": "ed0b3340-53e7-477f-ee06-6915aa0fe227",
        "colab": {
          "base_uri": "https://localhost:8080/"
        }
      },
      "outputs": [
        {
          "output_type": "stream",
          "name": "stdout",
          "text": [
            "[1, 2, 3, 4]\n",
            "[3, 4, 5, 6]\n",
            "[2, 3, 6, 7]\n"
          ]
        }
      ],
      "source": [
        "#example 2 - map with an function that takes arguments\n",
        "from functools import partial\n",
        "\n",
        "def PlusX(a,x):\n",
        "    return a+x\n",
        "\n",
        "\n",
        "A = [1,2,3,4]\n",
        "print(A)\n",
        "B = list(map(partial(PlusX,x=2),A)) #use partial to fix parameters \n",
        "print(B)\n",
        "\n",
        "C = [1,1,3,3]\n",
        "D = list(map(PlusX,A,C)) #or input multiple iterable objects\n",
        "print(D)"
      ]
    },
    {
      "cell_type": "code",
      "execution_count": 3,
      "metadata": {
        "id": "2IhEi8SSBp9Z",
        "outputId": "ce24750a-9688-4187-81f3-e4be4a1d8f95",
        "colab": {
          "base_uri": "https://localhost:8080/"
        }
      },
      "outputs": [
        {
          "output_type": "stream",
          "name": "stdout",
          "text": [
            "[2, 3, 4, 5]\n"
          ]
        }
      ],
      "source": [
        "#example 3 - map with lmbda functions\n",
        "A = [1,2,3,4]\n",
        "B = list(map(lambda x:x+1,A ))#implement function directly with lambda\n",
        "print(B)"
      ]
    },
    {
      "cell_type": "code",
      "execution_count": 4,
      "metadata": {
        "id": "DuvyOl2nBp9a",
        "outputId": "58f9a2a3-f6ed-4b0e-d474-53e1ac3a148f",
        "colab": {
          "base_uri": "https://localhost:8080/"
        }
      },
      "outputs": [
        {
          "output_type": "execute_result",
          "data": {
            "text/plain": [
              "array([[9.59419974e+00, 5.44121767e+00, 1.08023428e+01, 1.67568387e+01,\n",
              "        1.37951909e+01, 4.51400449e+00, 1.09653530e+01, 1.14971327e+01,\n",
              "        1.00588135e+01, 1.40751610e+01],\n",
              "       [4.45612463e+00, 1.39344554e+01, 4.79969789e+00, 1.89232195e+01,\n",
              "        4.93826773e-01, 1.85932389e+01, 1.99873287e+01, 1.93646417e+00,\n",
              "        1.81544113e+01, 1.12238887e-01],\n",
              "       [3.47519918e+00, 6.69212792e+00, 9.87426670e+00, 1.89970272e+01,\n",
              "        1.13054589e+01, 1.59878197e+01, 1.96410080e+01, 1.07116351e+01,\n",
              "        5.36024887e+00, 3.66519995e+00],\n",
              "       [2.82328245e+00, 1.71355867e+01, 9.93248825e+00, 1.31822323e+01,\n",
              "        5.55876188e+00, 6.46144385e+00, 1.17909428e+00, 7.39181088e+00,\n",
              "        1.02491095e+01, 1.91753789e+01],\n",
              "       [9.38275373e+00, 9.73044112e+00, 1.61635645e+01, 1.64990174e+01,\n",
              "        1.38905133e+01, 2.64150848e+00, 2.24379763e+00, 1.27278247e+01,\n",
              "        3.56249351e+00, 5.55021875e+00],\n",
              "       [1.68757790e+01, 5.91568710e-01, 1.43259491e+01, 4.48379366e+00,\n",
              "        1.63818599e+01, 5.04879711e-01, 1.30691083e+01, 1.65779629e+01,\n",
              "        3.53539396e+00, 1.92306353e+01],\n",
              "       [1.42188275e+01, 1.73922488e+01, 8.97101237e+00, 1.99419429e+01,\n",
              "        1.04048971e+01, 1.64342271e+01, 6.51214076e+00, 2.37488480e-03,\n",
              "        1.11399477e+01, 7.42731849e+00],\n",
              "       [1.65359221e+01, 2.45936627e+00, 3.57584459e+00, 3.13304583e+00,\n",
              "        1.50829398e+01, 1.02958586e+01, 1.06517741e+01, 1.41015688e+01,\n",
              "        1.99895311e+01, 1.70581418e+01],\n",
              "       [8.50402433e+00, 1.17020813e+01, 9.77981464e+00, 6.80684635e+00,\n",
              "        1.96779288e+01, 1.72625034e+01, 8.00053191e+00, 1.21835032e+01,\n",
              "        1.52604526e+01, 2.60873210e-02],\n",
              "       [3.77951258e+00, 1.75139546e+01, 2.10618686e+00, 1.76039415e+01,\n",
              "        1.34516554e+01, 8.53023823e+00, 8.13940339e+00, 6.43637001e+00,\n",
              "        1.83631792e+01, 1.06278965e+00]])"
            ]
          },
          "metadata": {},
          "execution_count": 4
        }
      ],
      "source": [
        "#example 4 - Numpy has map \"build in\"\n",
        "import numpy as np\n",
        "A = np.random.rand(10,10)*20\n",
        "A"
      ]
    },
    {
      "cell_type": "code",
      "execution_count": 5,
      "metadata": {
        "id": "Pp8wTCT_Bp9a"
      },
      "outputs": [],
      "source": [
        "#apply function directly on each element of an array\n",
        "def isLarger10(x):\n",
        "    return x>10\n",
        "\n",
        "B = isLarger10(A)"
      ]
    },
    {
      "cell_type": "code",
      "execution_count": 6,
      "metadata": {
        "id": "UTc2-_KABp9b",
        "outputId": "1453324e-aaf3-488e-d12d-d52d28ec3e24",
        "colab": {
          "base_uri": "https://localhost:8080/"
        }
      },
      "outputs": [
        {
          "output_type": "execute_result",
          "data": {
            "text/plain": [
              "array([[False, False,  True,  True,  True, False,  True,  True,  True,\n",
              "         True],\n",
              "       [False,  True, False,  True, False,  True,  True, False,  True,\n",
              "        False],\n",
              "       [False, False, False,  True,  True,  True,  True,  True, False,\n",
              "        False],\n",
              "       [False,  True, False,  True, False, False, False, False,  True,\n",
              "         True],\n",
              "       [False, False,  True,  True,  True, False, False,  True, False,\n",
              "        False],\n",
              "       [ True, False,  True, False,  True, False,  True,  True, False,\n",
              "         True],\n",
              "       [ True,  True, False,  True,  True,  True, False, False,  True,\n",
              "        False],\n",
              "       [ True, False, False, False,  True,  True,  True,  True,  True,\n",
              "         True],\n",
              "       [False,  True, False, False,  True,  True, False,  True,  True,\n",
              "        False],\n",
              "       [False,  True, False,  True,  True, False, False, False,  True,\n",
              "        False]])"
            ]
          },
          "metadata": {},
          "execution_count": 6
        }
      ],
      "source": [
        "B"
      ]
    },
    {
      "cell_type": "markdown",
      "metadata": {
        "id": "IOvCE54mBp9c"
      },
      "source": [
        "#### *Reduce* in Python\n",
        "*functools* also provides a *reduce* function. Again, it will take a function and one ore more iterable objects as arguments. (see [API](https://docs.python.org/3/library/functools.html#functools.reduce))"
      ]
    },
    {
      "cell_type": "code",
      "execution_count": 7,
      "metadata": {
        "id": "lGMaucL_Bp9d",
        "outputId": "b38f1582-7d40-438f-eaef-8e80152e7663",
        "colab": {
          "base_uri": "https://localhost:8080/"
        }
      },
      "outputs": [
        {
          "output_type": "stream",
          "name": "stdout",
          "text": [
            "The sum of the list elements is : 17\n",
            "The maximum element of the list is : 6\n"
          ]
        }
      ],
      "source": [
        "# importing functools for reduce() \n",
        "import functools \n",
        "  \n",
        "# initializing list \n",
        "lis = [ 1 , 3, 5, 6, 2, ] \n",
        "  \n",
        "def addIt(a,b):\n",
        "    return a+b\n",
        "\n",
        "# using reduce to compute sum of list \n",
        "print (\"The sum of the list elements is : \",end=\"\") \n",
        "print (functools.reduce(addIt,lis)) \n",
        "  \n",
        "# using reduce to compute maximum element from list \n",
        "print (\"The maximum element of the list is : \",end=\"\") \n",
        "print (functools.reduce(lambda a,b : a if a > b else b,lis)) "
      ]
    },
    {
      "cell_type": "markdown",
      "metadata": {
        "id": "NDAkHyJFBp9e"
      },
      "source": [
        "#### Splitting"
      ]
    },
    {
      "cell_type": "code",
      "execution_count": 8,
      "metadata": {
        "id": "ho7Sl2kuBp9e",
        "outputId": "620f94f8-9c94-4588-e1d4-e0579f691fad",
        "colab": {
          "base_uri": "https://localhost:8080/"
        }
      },
      "outputs": [
        {
          "output_type": "stream",
          "name": "stdout",
          "text": [
            "[1, 2, 3]\n",
            "[4, 5, 6]\n",
            "[7, 8, 9]\n"
          ]
        }
      ],
      "source": [
        "import more_itertools as mit\n",
        "\n",
        "A=[1,2,3,4,5,6,7,8,9]\n",
        "B=list(mit.chunked(A, 3)) #split into lists of max size 3\n",
        "\n",
        "for i in B: #iterate over the spitts \n",
        "    print(i)"
      ]
    },
    {
      "cell_type": "code",
      "execution_count": 9,
      "metadata": {
        "id": "II-RJ9tMBp9f",
        "outputId": "9e619b5b-0d78-48c5-cd10-5f925a007254",
        "colab": {
          "base_uri": "https://localhost:8080/"
        }
      },
      "outputs": [
        {
          "output_type": "stream",
          "name": "stdout",
          "text": [
            "['t', 'h', 'i', 's', ' ']\n",
            "['i', 's', ' ', 'a', ' ']\n",
            "['s', 'h', 'o', 'r', 't']\n",
            "[' ', 't', 'e', 'x', 't']\n",
            "[' ', 'i', 'n', ' ', 'f']\n",
            "['o', 'r', 'm', ' ', 'o']\n",
            "['f', ' ', 'a', ' ', 'p']\n",
            "['y', 't', 'h', 'o', 'n']\n",
            "[' ', 's', 't', 'r', 'i']\n",
            "['n', 'g']\n"
          ]
        }
      ],
      "source": [
        "A='this is a short text in form of a python string'\n",
        "B=list(mit.chunked(A, 5)) #split into lists of max size 5\n",
        "\n",
        "for i in B: #iterate over the spitts \n",
        "    print(i)"
      ]
    },
    {
      "cell_type": "markdown",
      "metadata": {
        "id": "WgOFsUuOBp9f"
      },
      "source": [
        "## Exercise: build a simple *Character Count* Algorithm based on the above *split, map* and *reduce* operators "
      ]
    },
    {
      "cell_type": "code",
      "execution_count": 10,
      "metadata": {
        "id": "83a8F_sbBp9g"
      },
      "outputs": [],
      "source": [
        "#some text from NYTimes\n",
        "text = ' Byron Spencer, handing out water and burgers to protesters outside Los Angeles City Hall, said he was both “elated and defeated” by word of the new charges. He said he had seen countless surges of outrage over police brutality against black men, only to have it happen again. “I’m 55, I’m black and I’m male — I’ve seen the cycle,” he said. “It’s almost like PTSD constantly having this conversation with my son.” Cierra Sesay reacted to the charges at a demonstration in the shadow of the State Capitol in Denver. “It’s amazing, it’s another box we can check,” she said. “But it goes up so much higher. It’s about the system.” In San Francisco, Tevita Tomasi — who is of Polynesian descent and described himself as “dark and tall and big” — said he regularly faced racial profiling, evidence of the bigger forces that must be overcome. On Wednesday, he distributed bottled water at what he said was his first demonstration, but one that would not be his last. What would stop him from protesting?'"
      ]
    },
    {
      "cell_type": "markdown",
      "metadata": {
        "id": "2xeaWJDgBp9g"
      },
      "source": [
        "* HINT: use list pf *python* [dictionaries](https://docs.python.org/3/tutorial/datastructures.html#dictionaries) to store the character counts in the map\n",
        "* HINT 2: merge the dicts in reduce"
      ]
    },
    {
      "cell_type": "code",
      "execution_count": 56,
      "metadata": {
        "id": "5ti9JtKWBp9h"
      },
      "outputs": [],
      "source": [
        "split=list(mit.chunked(text, len(text))) \n"
      ]
    },
    {
      "cell_type": "code",
      "source": [
        "def IsALetter(a,b):\n",
        "    if str(b) not in ' ':\n",
        "      c = 1\n",
        "    else:\n",
        "      c = 0\n",
        "    a = a+c\n",
        "    return  a"
      ],
      "metadata": {
        "id": "ldrgIDBDkhaS"
      },
      "execution_count": 67,
      "outputs": []
    },
    {
      "cell_type": "code",
      "source": [
        "print (functools.reduce(IsALetter,text)) "
      ],
      "metadata": {
        "id": "MU4ywEUeldzM",
        "outputId": "5ab0cec4-f2c3-43f0-9374-f05e3b6d236c",
        "colab": {
          "base_uri": "https://localhost:8080/",
          "height": 276
        }
      },
      "execution_count": 68,
      "outputs": [
        {
          "output_type": "error",
          "ename": "TypeError",
          "evalue": "ignored",
          "traceback": [
            "\u001b[0;31m---------------------------------------------------------------------------\u001b[0m",
            "\u001b[0;31mTypeError\u001b[0m                                 Traceback (most recent call last)",
            "\u001b[0;32m<ipython-input-68-5def8d93779e>\u001b[0m in \u001b[0;36m<module>\u001b[0;34m()\u001b[0m\n\u001b[0;32m----> 1\u001b[0;31m \u001b[0mprint\u001b[0m \u001b[0;34m(\u001b[0m\u001b[0mfunctools\u001b[0m\u001b[0;34m.\u001b[0m\u001b[0mreduce\u001b[0m\u001b[0;34m(\u001b[0m\u001b[0mIsALetter\u001b[0m\u001b[0;34m,\u001b[0m\u001b[0mtext\u001b[0m\u001b[0;34m)\u001b[0m\u001b[0;34m)\u001b[0m\u001b[0;34m\u001b[0m\u001b[0;34m\u001b[0m\u001b[0m\n\u001b[0m",
            "\u001b[0;32m<ipython-input-67-aaf5895f1f61>\u001b[0m in \u001b[0;36mIsALetter\u001b[0;34m(a, b)\u001b[0m\n\u001b[1;32m      4\u001b[0m     \u001b[0;32melse\u001b[0m\u001b[0;34m:\u001b[0m\u001b[0;34m\u001b[0m\u001b[0;34m\u001b[0m\u001b[0m\n\u001b[1;32m      5\u001b[0m       \u001b[0mc\u001b[0m \u001b[0;34m=\u001b[0m \u001b[0;36m0\u001b[0m\u001b[0;34m\u001b[0m\u001b[0;34m\u001b[0m\u001b[0m\n\u001b[0;32m----> 6\u001b[0;31m     \u001b[0ma\u001b[0m \u001b[0;34m=\u001b[0m \u001b[0ma\u001b[0m\u001b[0;34m+\u001b[0m\u001b[0mc\u001b[0m\u001b[0;34m\u001b[0m\u001b[0;34m\u001b[0m\u001b[0m\n\u001b[0m\u001b[1;32m      7\u001b[0m     \u001b[0;32mreturn\u001b[0m  \u001b[0ma\u001b[0m\u001b[0;34m\u001b[0m\u001b[0;34m\u001b[0m\u001b[0m\n",
            "\u001b[0;31mTypeError\u001b[0m: can only concatenate str (not \"int\") to str"
          ]
        }
      ]
    },
    {
      "cell_type": "code",
      "source": [
        "a = list('sa')\n",
        "\n",
        "a[0]\n",
        "if a[0] not in ' ':\n",
        "  a = 1\n",
        "else:\n",
        "  a = 0\n",
        "print(a)"
      ],
      "metadata": {
        "id": "bLK9lLePlkx0",
        "outputId": "f77c90e2-8704-4c8a-ceab-1851033c61ea",
        "colab": {
          "base_uri": "https://localhost:8080/"
        }
      },
      "execution_count": 64,
      "outputs": [
        {
          "output_type": "stream",
          "name": "stdout",
          "text": [
            "1\n"
          ]
        }
      ]
    },
    {
      "cell_type": "code",
      "source": [
        "IsALetter('d',0)"
      ],
      "metadata": {
        "id": "Nrp09j3HnZgL",
        "outputId": "a994a28d-3334-4eb6-9d14-e87536128f71",
        "colab": {
          "base_uri": "https://localhost:8080/"
        }
      },
      "execution_count": 35,
      "outputs": [
        {
          "output_type": "execute_result",
          "data": {
            "text/plain": [
              "1"
            ]
          },
          "metadata": {},
          "execution_count": 35
        }
      ]
    },
    {
      "cell_type": "code",
      "source": [
        "split[1].index"
      ],
      "metadata": {
        "id": "VzQjvH-Sn0JH",
        "outputId": "ed493396-8b16-433f-d7a0-9a218f995989",
        "colab": {
          "base_uri": "https://localhost:8080/"
        }
      },
      "execution_count": 38,
      "outputs": [
        {
          "output_type": "execute_result",
          "data": {
            "text/plain": [
              "<function list.index>"
            ]
          },
          "metadata": {},
          "execution_count": 38
        }
      ]
    },
    {
      "cell_type": "code",
      "source": [
        ""
      ],
      "metadata": {
        "id": "jgh232qhn6qn"
      },
      "execution_count": null,
      "outputs": []
    }
  ],
  "metadata": {
    "kernelspec": {
      "display_name": "Python 3",
      "language": "python",
      "name": "python3"
    },
    "language_info": {
      "codemirror_mode": {
        "name": "ipython",
        "version": 3
      },
      "file_extension": ".py",
      "mimetype": "text/x-python",
      "name": "python",
      "nbconvert_exporter": "python",
      "pygments_lexer": "ipython3",
      "version": "3.7.6"
    },
    "colab": {
      "name": "Assignment_MapReduce.ipynb",
      "provenance": [],
      "include_colab_link": true
    }
  },
  "nbformat": 4,
  "nbformat_minor": 0
}